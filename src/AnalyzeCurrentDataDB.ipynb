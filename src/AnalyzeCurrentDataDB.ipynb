{
 "cells": [
  {
   "cell_type": "code",
   "execution_count": 2,
   "metadata": {},
   "outputs": [],
   "source": [
    "import matplotlib.pyplot as plt\n",
    "import pandas as pd\n",
    "from DBIO import YouBikeDataManager\n",
    "\n",
    "db_path = '../youbike_data.db'\n",
    "manager = YouBikeDataManager(db_path)\n",
    "sno = \"500101024\"\n",
    "data = manager.load_and_preprocess_station(sno)"
   ]
  },
  {
   "cell_type": "code",
   "execution_count": 3,
   "metadata": {},
   "outputs": [
    {
     "data": {
      "text/plain": [
       "Index(['available_rent_bikes', 'available_return_bikes', 'capacity', 'demand'], dtype='object')"
      ]
     },
     "execution_count": 3,
     "metadata": {},
     "output_type": "execute_result"
    }
   ],
   "source": [
    "data.columns"
   ]
  },
  {
   "cell_type": "code",
   "execution_count": 4,
   "metadata": {},
   "outputs": [
    {
     "data": {
      "text/html": [
       "<div>\n",
       "<style scoped>\n",
       "    .dataframe tbody tr th:only-of-type {\n",
       "        vertical-align: middle;\n",
       "    }\n",
       "\n",
       "    .dataframe tbody tr th {\n",
       "        vertical-align: top;\n",
       "    }\n",
       "\n",
       "    .dataframe thead th {\n",
       "        text-align: right;\n",
       "    }\n",
       "</style>\n",
       "<table border=\"1\" class=\"dataframe\">\n",
       "  <thead>\n",
       "    <tr style=\"text-align: right;\">\n",
       "      <th></th>\n",
       "      <th>available_rent_bikes</th>\n",
       "      <th>available_return_bikes</th>\n",
       "      <th>capacity</th>\n",
       "      <th>demand</th>\n",
       "    </tr>\n",
       "    <tr>\n",
       "      <th>mday</th>\n",
       "      <th></th>\n",
       "      <th></th>\n",
       "      <th></th>\n",
       "      <th></th>\n",
       "    </tr>\n",
       "  </thead>\n",
       "  <tbody>\n",
       "    <tr>\n",
       "      <th>2024-11-18 12:00:00</th>\n",
       "      <td>44</td>\n",
       "      <td>6</td>\n",
       "      <td>50</td>\n",
       "      <td>0</td>\n",
       "    </tr>\n",
       "    <tr>\n",
       "      <th>2024-11-18 13:00:00</th>\n",
       "      <td>48</td>\n",
       "      <td>2</td>\n",
       "      <td>50</td>\n",
       "      <td>-4</td>\n",
       "    </tr>\n",
       "    <tr>\n",
       "      <th>2024-11-18 14:00:00</th>\n",
       "      <td>45</td>\n",
       "      <td>5</td>\n",
       "      <td>50</td>\n",
       "      <td>3</td>\n",
       "    </tr>\n",
       "    <tr>\n",
       "      <th>2024-11-18 15:00:00</th>\n",
       "      <td>40</td>\n",
       "      <td>10</td>\n",
       "      <td>50</td>\n",
       "      <td>5</td>\n",
       "    </tr>\n",
       "    <tr>\n",
       "      <th>2024-11-18 16:00:00</th>\n",
       "      <td>30</td>\n",
       "      <td>20</td>\n",
       "      <td>50</td>\n",
       "      <td>10</td>\n",
       "    </tr>\n",
       "  </tbody>\n",
       "</table>\n",
       "</div>"
      ],
      "text/plain": [
       "                     available_rent_bikes  available_return_bikes  capacity  \\\n",
       "mday                                                                          \n",
       "2024-11-18 12:00:00                    44                       6        50   \n",
       "2024-11-18 13:00:00                    48                       2        50   \n",
       "2024-11-18 14:00:00                    45                       5        50   \n",
       "2024-11-18 15:00:00                    40                      10        50   \n",
       "2024-11-18 16:00:00                    30                      20        50   \n",
       "\n",
       "                     demand  \n",
       "mday                         \n",
       "2024-11-18 12:00:00       0  \n",
       "2024-11-18 13:00:00      -4  \n",
       "2024-11-18 14:00:00       3  \n",
       "2024-11-18 15:00:00       5  \n",
       "2024-11-18 16:00:00      10  "
      ]
     },
     "execution_count": 4,
     "metadata": {},
     "output_type": "execute_result"
    }
   ],
   "source": [
    "data.head()"
   ]
  },
  {
   "cell_type": "code",
   "execution_count": 5,
   "metadata": {},
   "outputs": [
    {
     "name": "stdout",
     "output_type": "stream",
     "text": [
      "Missing timestamps:\n",
      "DatetimeIndex([], dtype='datetime64[ns]', freq='h')\n"
     ]
    },
    {
     "name": "stderr",
     "output_type": "stream",
     "text": [
      "/tmp/ipykernel_14669/3433340772.py:2: FutureWarning: 'H' is deprecated and will be removed in a future version, please use 'h' instead.\n",
      "  full_index = pd.date_range(start=data.index.min(), end=data.index.max(), freq='H')\n"
     ]
    }
   ],
   "source": [
    "# Expected frequency (e.g., hourly data)\n",
    "full_index = pd.date_range(start=data.index.min(), end=data.index.max(), freq='H')\n",
    "missing_timestamps = full_index.difference(data.index)\n",
    "\n",
    "print(f\"Missing timestamps:\\n{missing_timestamps}\")"
   ]
  },
  {
   "cell_type": "code",
   "execution_count": 6,
   "metadata": {},
   "outputs": [],
   "source": [
    "data = data.reindex(full_index)\n"
   ]
  },
  {
   "cell_type": "code",
   "execution_count": 7,
   "metadata": {},
   "outputs": [],
   "source": [
    "data['available_rent_bikes'] = data['available_rent_bikes'].interpolate(method='linear')\n",
    "data['available_return_bikes'] = data['available_return_bikes'].interpolate(method='linear')\n",
    "data['demand'] = data['demand'].interpolate(method='linear')"
   ]
  },
  {
   "cell_type": "code",
   "execution_count": 8,
   "metadata": {},
   "outputs": [],
   "source": [
    "data['is_missing'] = data['demand'].isnull().astype(int)"
   ]
  },
  {
   "cell_type": "code",
   "execution_count": 9,
   "metadata": {},
   "outputs": [],
   "source": [
    "hourly_avg = data.groupby(data.index.hour).mean()\n",
    "data = data.fillna(hourly_avg)\n"
   ]
  },
  {
   "cell_type": "code",
   "execution_count": null,
   "metadata": {},
   "outputs": [],
   "source": []
  }
 ],
 "metadata": {
  "kernelspec": {
   "display_name": "venv",
   "language": "python",
   "name": "python3"
  },
  "language_info": {
   "codemirror_mode": {
    "name": "ipython",
    "version": 3
   },
   "file_extension": ".py",
   "mimetype": "text/x-python",
   "name": "python",
   "nbconvert_exporter": "python",
   "pygments_lexer": "ipython3",
   "version": "3.10.12"
  }
 },
 "nbformat": 4,
 "nbformat_minor": 2
}
