{
 "cells": [
  {
   "cell_type": "code",
   "execution_count": 1,
   "metadata": {},
   "outputs": [],
   "source": [
    "# This script should verify the collected data\n",
    "# we have collected some stations at certain times during the day\n",
    "# let's see if the numbers collected match the actual collected data via API"
   ]
  },
  {
   "cell_type": "code",
   "execution_count": 5,
   "metadata": {},
   "outputs": [
    {
     "name": "stdout",
     "output_type": "stream",
     "text": [
      "Empty DataFrame\n",
      "Columns: [sno, snaen, latitude, longitude, capacity, s_init, mday]\n",
      "Index: []\n"
     ]
    }
   ],
   "source": [
    "import sqlite3\n",
    "import pandas as pd\n",
    "\n",
    "def get_closest_station_and_state(target_lat, target_lon, specific_time):\n",
    "    # Connect to the SQLite database\n",
    "    conn = sqlite3.connect('../youbike_data.db')\n",
    "\n",
    "    # Query to find the closest station\n",
    "    closest_station_query = \"\"\"\n",
    "    WITH DistanceToTarget AS (\n",
    "        SELECT \n",
    "            sno, \n",
    "            snaen, \n",
    "            latitude, \n",
    "            longitude, \n",
    "            total AS capacity, \n",
    "            available_rent_bikes AS s_init, \n",
    "            mday,\n",
    "            (\n",
    "                6371 * acos(\n",
    "                    cos(radians(?)) * cos(radians(latitude)) *\n",
    "                    cos(radians(longitude) - radians(?)) +\n",
    "                    sin(radians(?)) * sin(radians(latitude))\n",
    "                )\n",
    "            ) AS distance\n",
    "        FROM youbike_data\n",
    "    )\n",
    "    SELECT *\n",
    "    FROM DistanceToTarget\n",
    "    ORDER BY distance ASC\n",
    "    LIMIT 1\n",
    "    \"\"\"\n",
    "\n",
    "    # Execute the query to find the closest station\n",
    "    closest_station = pd.read_sql_query(\n",
    "        closest_station_query, \n",
    "        conn, \n",
    "        params=(target_lat, target_lon, target_lat)\n",
    "    )\n",
    "\n",
    "    if closest_station.empty:\n",
    "        print(\"No stations found.\")\n",
    "        conn.close()\n",
    "        return None\n",
    "\n",
    "    # Get the station number of the closest station\n",
    "    sno = closest_station.iloc[0]['sno']\n",
    "\n",
    "    # Query to get the state of the closest station at the specific time\n",
    "    station_state_query = \"\"\"\n",
    "    SELECT sno, snaen, latitude, longitude, total AS capacity, available_rent_bikes AS s_init, mday\n",
    "    FROM youbike_data\n",
    "    WHERE sno = ? AND mday = ?\n",
    "    \"\"\"\n",
    "\n",
    "    # Execute the query to get the station state\n",
    "    station_state = pd.read_sql_query(station_state_query, conn, params=(sno, specific_time))\n",
    "\n",
    "    # Close the connection\n",
    "    conn.close()\n",
    "\n",
    "    return station_state\n",
    "\n",
    "# Example usage\n",
    "target_lat = 25.0330  # Replace with your latitude\n",
    "target_lon = 121.5654  # Replace with your longitude\n",
    "specific_time = \"2024-11-01 11:30:00\"  # Replace with your time and date\n",
    "\n",
    "result = get_closest_station_and_state(target_lat, target_lon, specific_time)\n",
    "print(result)\n"
   ]
  },
  {
   "cell_type": "code",
   "execution_count": 1,
   "metadata": {},
   "outputs": [],
   "source": [
    "# with sql tool, we can use this query:\n",
    "    # WITH ClosestStation AS (\n",
    "    #     SELECT \n",
    "    #         sno, \n",
    "    #         snaen, \n",
    "    #         latitude, \n",
    "    #         longitude, \n",
    "    #         total AS capacity, \n",
    "    #         available_rent_bikes AS s_init, \n",
    "    #         mday,\n",
    "    #         (\n",
    "    #             6371 * acos(\n",
    "    #                 cos(radians(?)) * cos(radians(latitude)) *\n",
    "    #                 cos(radians(longitude) - radians(?)) +\n",
    "    #                 sin(radians(?)) * sin(radians(latitude))\n",
    "    #             )\n",
    "    #         ) AS distance\n",
    "    #     FROM youbike_data\n",
    "    #     ORDER BY distance ASC\n",
    "    #     LIMIT 1\n",
    "    # )\n",
    "    # SELECT *\n",
    "    # FROM youbike_data\n",
    "    # WHERE sno = (SELECT sno FROM ClosestStation)"
   ]
  },
  {
   "cell_type": "code",
   "execution_count": 6,
   "metadata": {},
   "outputs": [
    {
     "name": "stdout",
     "output_type": "stream",
     "text": [
      "Empty DataFrame\n",
      "Columns: [sno, snaen, latitude, longitude, capacity, s_init, mday]\n",
      "Index: []\n"
     ]
    }
   ],
   "source": [
    "# case 1\n",
    "# 8:58 am 21th November 2024,, close to home (24.999808, 121.547607)\n",
    "# sno is xingfeng park, 500105024\n",
    "# 8 bikes available on pic\n",
    "# data base entry says 5\n",
    "specific_time = \"2024-11-21 08:58:00\"  # Replace with your time and date\n",
    "result = get_closest_station_and_state(24.999808, 121.547607, specific_time)\n",
    "print(result)"
   ]
  },
  {
   "cell_type": "code",
   "execution_count": 3,
   "metadata": {},
   "outputs": [],
   "source": [
    "# case 2\n",
    "# 3:20 am 22nd November 2024, close to home (24.998934, 121.548893)\n",
    "# 12 bikes available\n",
    "# 14 bikes in the db. So I think right now we only record if there is a change in data\n",
    "# i also think that some of these bikes at the station are not shown or shown as broken"
   ]
  },
  {
   "cell_type": "code",
   "execution_count": null,
   "metadata": {},
   "outputs": [],
   "source": []
  }
 ],
 "metadata": {
  "kernelspec": {
   "display_name": "venv",
   "language": "python",
   "name": "python3"
  },
  "language_info": {
   "codemirror_mode": {
    "name": "ipython",
    "version": 3
   },
   "file_extension": ".py",
   "mimetype": "text/x-python",
   "name": "python",
   "nbconvert_exporter": "python",
   "pygments_lexer": "ipython3",
   "version": "3.10.12"
  }
 },
 "nbformat": 4,
 "nbformat_minor": 2
}
