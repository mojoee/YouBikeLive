{
 "cells": [
  {
   "cell_type": "code",
   "execution_count": null,
   "metadata": {},
   "outputs": [],
   "source": [
    "# original data\n",
    "\n",
    "# \"Anpu\": 121.5297306, \t25.18258611\n",
    "# \"Taipei\" : 121.514853, 25.037658\n",
    "# \"Yangmingshan\" : 121.5445472, 25.16207778\n",
    "# \"NTU\" : 121.539416, 25.014278\n",
    "# \"PCCU\" : 121.53987, 25.13605\n",
    "# \"Science Education Center\" : 121.516506, \t25.096356\n",
    "# \"Shezi\": 121.469681, \t25.109508\n",
    "# \"Tianmu\": 121.537169, 25.117494\n",
    "# \"Neihu\" : 121.57545, 25.079422\n",
    "# \"Datunshan\" : 121.522408, 25.175675\n",
    "# \"Xinyi\": 121.564597, 25.037822\n",
    "# \"Wenshan\" : 121.575728, 25.00235\n",
    "# \"Pingdeng\" : 121.577086, 25.129142\n",
    "# \"Songshan\" : 121.550428, 25.048711\n",
    "# \"Shipai\" : 121.513139, 25.115597\n",
    "# \"Freeway No. 3 - CCTV – S016K\": 121.6158, 25.03306\n",
    "# \"Freeway No. 3 - CCTV – A005K\": 121.5975, \t25.00194\n",
    "# \"Da'an Forest Park\": 121.53628, 25.02955\n",
    "# \"Agriculture Guandu Station\": 121.492, \t25.11575\n",
    "\n",
    "\n"
   ]
  },
  {
   "cell_type": "code",
   "execution_count": 8,
   "metadata": {},
   "outputs": [
    {
     "name": "stdout",
     "output_type": "stream",
     "text": [
      "Closest weather stations mapped and saved to the database.\n"
     ]
    }
   ],
   "source": [
    "import sqlite3\n",
    "from geopy.distance import geodesic\n",
    "import pandas as pd\n",
    "\n",
    "# Weather stations with their coordinates\n",
    "weather_stations = {\n",
    "    \"Anpu\": (121.5297306, 25.18258611),\n",
    "    \"Taipei\": (121.514853, 25.037658),\n",
    "    \"Yangmingshan\": (121.5445472, 25.16207778),\n",
    "    \"NTU\": (121.539416, 25.014278),\n",
    "    \"PCCU\": (121.53987, 25.13605),\n",
    "    \"Science Education Center\": (121.516506, 25.096356),\n",
    "    \"Shezi\": (121.469681, 25.109508),\n",
    "    \"Tianmu\": (121.537169, 25.117494),\n",
    "    \"Neihu\": (121.57545, 25.079422),\n",
    "    \"Datunshan\": (121.522408, 25.175675),\n",
    "    \"Xinyi\": (121.564597, 25.037822),\n",
    "    \"Wenshan\": (121.575728, 25.00235),\n",
    "    \"Pingdeng\": (121.577086, 25.129142),\n",
    "    \"Songshan\": (121.550428, 25.048711),\n",
    "    \"Shipai\": (121.513139, 25.115597),\n",
    "    \"Freeway No. 3 - CCTV – S016K\": (121.6158, 25.03306),\n",
    "    \"Freeway No. 3 - CCTV – A005K\": (121.5975, 25.00194),\n",
    "    \"Da'an Forest Park\": (121.53628, 25.02955),\n",
    "    \"Agriculture Guandu Station\": (121.492, 25.11575),\n",
    "}\n",
    "\n",
    "# Connect to the database\n",
    "db_path = '../youbike_data.db'\n",
    "conn = sqlite3.connect(db_path)\n",
    "\n",
    "# Retrieve YouBike stations\n",
    "query = \"SELECT sno, sna, latitude, longitude FROM youbike_stations\"\n",
    "df_youbike = pd.read_sql_query(query, conn)\n",
    "\n",
    "# Find the closest weather station for each YouBike station\n",
    "closest_stations = []\n",
    "for _, row in df_youbike.iterrows():\n",
    "    youbike_coords = (row[\"longitude\"], row[\"latitude\"])  # Latitude first, then longitude\n",
    "    min_distance = float(\"inf\")\n",
    "    closest_station = None\n",
    "\n",
    "    for station_name, weather_coords in weather_stations.items():\n",
    "        distance = geodesic(youbike_coords[::-1], weather_coords[::-1]).kilometers\n",
    "        if distance < min_distance:\n",
    "            min_distance = distance\n",
    "            closest_station = station_name\n",
    "\n",
    "    closest_stations.append((row[\"sno\"], row[\"sna\"], closest_station, min_distance))\n",
    "\n",
    "# Create a DataFrame for the results\n",
    "df_closest = pd.DataFrame(\n",
    "    closest_stations,\n",
    "    columns=[\"YouBike Station ID\", \"YouBike Station Name\", \"Closest Weather Station\", \"Distance (km)\"]\n",
    ")\n",
    "\n",
    "# Save the results to the database\n",
    "df_closest.to_sql(\"station_weather_mapping\", conn, if_exists=\"replace\", index=False)\n",
    "\n",
    "# Close the connection\n",
    "conn.close()\n",
    "\n",
    "print(\"Closest weather stations mapped and saved to the database.\")\n"
   ]
  },
  {
   "cell_type": "code",
   "execution_count": 3,
   "metadata": {},
   "outputs": [
    {
     "data": {
      "text/plain": [
       "(121.5297306, 25.18258611)"
      ]
     },
     "execution_count": 3,
     "metadata": {},
     "output_type": "execute_result"
    }
   ],
   "source": [
    "weather_coords"
   ]
  },
  {
   "cell_type": "code",
   "execution_count": null,
   "metadata": {},
   "outputs": [],
   "source": []
  }
 ],
 "metadata": {
  "kernelspec": {
   "display_name": "venv",
   "language": "python",
   "name": "python3"
  },
  "language_info": {
   "codemirror_mode": {
    "name": "ipython",
    "version": 3
   },
   "file_extension": ".py",
   "mimetype": "text/x-python",
   "name": "python",
   "nbconvert_exporter": "python",
   "pygments_lexer": "ipython3",
   "version": "3.10.12"
  }
 },
 "nbformat": 4,
 "nbformat_minor": 2
}
