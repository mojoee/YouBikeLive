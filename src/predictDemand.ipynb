{
 "cells": [
  {
   "cell_type": "code",
   "execution_count": null,
   "metadata": {
    "vscode": {
     "languageId": "plaintext"
    }
   },
   "outputs": [],
   "source": [
    "import pandas as pd\n",
    "\n",
    "# Load the data\n",
    "df = pd.read_csv('../data/prediction/station_500101001_bikes_over_time_full.csv')\n",
    "\n",
    "# Convert to datetime\n",
    "df['transaction_time'] = pd.to_datetime(df['2024-11-18 12:37:15'])\n",
    "\n",
    "# Set time interval (e.g., 15 minutes)\n",
    "df['time_interval'] = df['transaction_time'].dt.floor('15min')\n",
    "\n",
    "# Aggregate data\n",
    "aggregated_df = df.groupby(['Station_ID', 'time_interval']).agg({\n",
    "    'bikes_available': 'mean',\n",
    "    'transaction_time': 'count'  # Number of transactions\n",
    "}).reset_index()\n",
    "\n",
    "# Rename columns\n",
    "aggregated_df.rename(columns={'transaction_time': 'num_transactions'}, inplace=True)\n"
   ]
  }
 ],
 "metadata": {
  "language_info": {
   "name": "python"
  }
 },
 "nbformat": 4,
 "nbformat_minor": 2
}
