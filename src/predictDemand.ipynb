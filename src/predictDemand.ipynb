{
 "cells": [
  {
   "cell_type": "code",
   "execution_count": 1,
   "metadata": {},
   "outputs": [
    {
     "name": "stderr",
     "output_type": "stream",
     "text": [
      "2024-12-18 15:22:59.302583: I external/local_xla/xla/tsl/cuda/cudart_stub.cc:32] Could not find cuda drivers on your machine, GPU will not be used.\n",
      "2024-12-18 15:22:59.306222: I external/local_xla/xla/tsl/cuda/cudart_stub.cc:32] Could not find cuda drivers on your machine, GPU will not be used.\n",
      "2024-12-18 15:22:59.315413: E external/local_xla/xla/stream_executor/cuda/cuda_fft.cc:477] Unable to register cuFFT factory: Attempting to register factory for plugin cuFFT when one has already been registered\n",
      "WARNING: All log messages before absl::InitializeLog() is called are written to STDERR\n",
      "E0000 00:00:1734506579.330394  565843 cuda_dnn.cc:8310] Unable to register cuDNN factory: Attempting to register factory for plugin cuDNN when one has already been registered\n",
      "E0000 00:00:1734506579.334501  565843 cuda_blas.cc:1418] Unable to register cuBLAS factory: Attempting to register factory for plugin cuBLAS when one has already been registered\n",
      "2024-12-18 15:22:59.350412: I tensorflow/core/platform/cpu_feature_guard.cc:210] This TensorFlow binary is optimized to use available CPU instructions in performance-critical operations.\n",
      "To enable the following instructions: AVX2 FMA, in other operations, rebuild TensorFlow with the appropriate compiler flags.\n"
     ]
    }
   ],
   "source": [
    "import sqlite3\n",
    "import pandas as pd\n",
    "from tensorflow.keras import layers\n",
    "import tensorflow as tf\n",
    "\n",
    "\n",
    "# Path to your SQLite database\n",
    "db_path = \"../youbike_data.db\"\n",
    "\n",
    "# Station ID to query\n",
    "station_id = '500101027'  # Change this if you want another station\n",
    "\n",
    "# SQL query\n",
    "query = f\"\"\"\n",
    "SELECT *\n",
    "FROM \n",
    "    youbike_data\n",
    "WHERE \n",
    "    sno = '{station_id}'\n",
    "ORDER BY \n",
    "    mday ASC;\n",
    "\"\"\"\n",
    "\n",
    "# Connect to the database\n",
    "conn = sqlite3.connect(db_path)\n",
    "\n",
    "# Execute the query and load results into a DataFrame\n",
    "df = pd.read_sql_query(query, conn)\n",
    "\n",
    "# Close the database connection\n",
    "conn.close()\n",
    "\n",
    "# Check the first few rows\n",
    "# df.head()"
   ]
  },
  {
   "cell_type": "code",
   "execution_count": 2,
   "metadata": {},
   "outputs": [
    {
     "data": {
      "text/html": [
       "<div>\n",
       "<style scoped>\n",
       "    .dataframe tbody tr th:only-of-type {\n",
       "        vertical-align: middle;\n",
       "    }\n",
       "\n",
       "    .dataframe tbody tr th {\n",
       "        vertical-align: top;\n",
       "    }\n",
       "\n",
       "    .dataframe thead th {\n",
       "        text-align: right;\n",
       "    }\n",
       "</style>\n",
       "<table border=\"1\" class=\"dataframe\">\n",
       "  <thead>\n",
       "    <tr style=\"text-align: right;\">\n",
       "      <th></th>\n",
       "      <th>sno</th>\n",
       "      <th>sna</th>\n",
       "      <th>sarea</th>\n",
       "      <th>mday</th>\n",
       "      <th>ar</th>\n",
       "      <th>sareaen</th>\n",
       "      <th>snaen</th>\n",
       "      <th>aren</th>\n",
       "      <th>act</th>\n",
       "      <th>srcUpdateTime</th>\n",
       "      <th>updateTime</th>\n",
       "      <th>infoTime</th>\n",
       "      <th>infoDate</th>\n",
       "      <th>total</th>\n",
       "      <th>available_rent_bikes</th>\n",
       "      <th>latitude</th>\n",
       "      <th>longitude</th>\n",
       "      <th>available_return_bikes</th>\n",
       "    </tr>\n",
       "  </thead>\n",
       "  <tbody>\n",
       "    <tr>\n",
       "      <th>0</th>\n",
       "      <td>500101027</td>\n",
       "      <td>YouBike2.0_臺灣科技大學後門</td>\n",
       "      <td>大安區</td>\n",
       "      <td>2024-11-18 12:26:14</td>\n",
       "      <td>基隆路四段41巷68弄臺科帆船大樓旁</td>\n",
       "      <td>Daan Dist.</td>\n",
       "      <td>YouBike2.0_NTUST(Back Gate)</td>\n",
       "      <td>Aly. 68， Ln. 41， Sec. 4， Keelung Rd.</td>\n",
       "      <td>1</td>\n",
       "      <td>2024-11-18 12:28:23</td>\n",
       "      <td>2024-11-18 12:28:52</td>\n",
       "      <td>2024-11-18 12:26:14</td>\n",
       "      <td>2024-11-18</td>\n",
       "      <td>39</td>\n",
       "      <td>33</td>\n",
       "      <td>25.01182</td>\n",
       "      <td>121.54165</td>\n",
       "      <td>6</td>\n",
       "    </tr>\n",
       "    <tr>\n",
       "      <th>1</th>\n",
       "      <td>500101027</td>\n",
       "      <td>YouBike2.0_臺灣科技大學後門</td>\n",
       "      <td>大安區</td>\n",
       "      <td>2024-11-18 12:30:17</td>\n",
       "      <td>基隆路四段41巷68弄臺科帆船大樓旁</td>\n",
       "      <td>Daan Dist.</td>\n",
       "      <td>YouBike2.0_NTUST(Back Gate)</td>\n",
       "      <td>Aly. 68， Ln. 41， Sec. 4， Keelung Rd.</td>\n",
       "      <td>1</td>\n",
       "      <td>2024-11-18 12:30:34</td>\n",
       "      <td>2024-11-18 12:30:52</td>\n",
       "      <td>2024-11-18 12:30:17</td>\n",
       "      <td>2024-11-18</td>\n",
       "      <td>39</td>\n",
       "      <td>30</td>\n",
       "      <td>25.01182</td>\n",
       "      <td>121.54165</td>\n",
       "      <td>9</td>\n",
       "    </tr>\n",
       "    <tr>\n",
       "      <th>2</th>\n",
       "      <td>500101027</td>\n",
       "      <td>YouBike2.0_臺灣科技大學後門</td>\n",
       "      <td>大安區</td>\n",
       "      <td>2024-11-18 12:35:16</td>\n",
       "      <td>基隆路四段41巷68弄臺科帆船大樓旁</td>\n",
       "      <td>Daan Dist.</td>\n",
       "      <td>YouBike2.0_NTUST(Back Gate)</td>\n",
       "      <td>Aly. 68， Ln. 41， Sec. 4， Keelung Rd.</td>\n",
       "      <td>1</td>\n",
       "      <td>2024-11-18 12:35:23</td>\n",
       "      <td>2024-11-18 12:35:52</td>\n",
       "      <td>2024-11-18 12:35:16</td>\n",
       "      <td>2024-11-18</td>\n",
       "      <td>39</td>\n",
       "      <td>29</td>\n",
       "      <td>25.01182</td>\n",
       "      <td>121.54165</td>\n",
       "      <td>10</td>\n",
       "    </tr>\n",
       "    <tr>\n",
       "      <th>3</th>\n",
       "      <td>500101027</td>\n",
       "      <td>YouBike2.0_臺灣科技大學後門</td>\n",
       "      <td>大安區</td>\n",
       "      <td>2024-11-18 12:37:15</td>\n",
       "      <td>基隆路四段41巷68弄臺科帆船大樓旁</td>\n",
       "      <td>Daan Dist.</td>\n",
       "      <td>YouBike2.0_NTUST(Back Gate)</td>\n",
       "      <td>Aly. 68， Ln. 41， Sec. 4， Keelung Rd.</td>\n",
       "      <td>1</td>\n",
       "      <td>2024-11-18 12:37:23</td>\n",
       "      <td>2024-11-18 12:37:52</td>\n",
       "      <td>2024-11-18 12:37:15</td>\n",
       "      <td>2024-11-18</td>\n",
       "      <td>39</td>\n",
       "      <td>28</td>\n",
       "      <td>25.01182</td>\n",
       "      <td>121.54165</td>\n",
       "      <td>11</td>\n",
       "    </tr>\n",
       "    <tr>\n",
       "      <th>4</th>\n",
       "      <td>500101027</td>\n",
       "      <td>YouBike2.0_臺灣科技大學後門</td>\n",
       "      <td>大安區</td>\n",
       "      <td>2024-11-18 12:39:15</td>\n",
       "      <td>基隆路四段41巷68弄臺科帆船大樓旁</td>\n",
       "      <td>Daan Dist.</td>\n",
       "      <td>YouBike2.0_NTUST(Back Gate)</td>\n",
       "      <td>Aly. 68， Ln. 41， Sec. 4， Keelung Rd.</td>\n",
       "      <td>1</td>\n",
       "      <td>2024-11-18 12:39:22</td>\n",
       "      <td>2024-11-18 12:39:52</td>\n",
       "      <td>2024-11-18 12:39:15</td>\n",
       "      <td>2024-11-18</td>\n",
       "      <td>39</td>\n",
       "      <td>29</td>\n",
       "      <td>25.01182</td>\n",
       "      <td>121.54165</td>\n",
       "      <td>10</td>\n",
       "    </tr>\n",
       "  </tbody>\n",
       "</table>\n",
       "</div>"
      ],
      "text/plain": [
       "         sno                  sna sarea                 mday  \\\n",
       "0  500101027  YouBike2.0_臺灣科技大學後門   大安區  2024-11-18 12:26:14   \n",
       "1  500101027  YouBike2.0_臺灣科技大學後門   大安區  2024-11-18 12:30:17   \n",
       "2  500101027  YouBike2.0_臺灣科技大學後門   大安區  2024-11-18 12:35:16   \n",
       "3  500101027  YouBike2.0_臺灣科技大學後門   大安區  2024-11-18 12:37:15   \n",
       "4  500101027  YouBike2.0_臺灣科技大學後門   大安區  2024-11-18 12:39:15   \n",
       "\n",
       "                   ar     sareaen                        snaen  \\\n",
       "0  基隆路四段41巷68弄臺科帆船大樓旁  Daan Dist.  YouBike2.0_NTUST(Back Gate)   \n",
       "1  基隆路四段41巷68弄臺科帆船大樓旁  Daan Dist.  YouBike2.0_NTUST(Back Gate)   \n",
       "2  基隆路四段41巷68弄臺科帆船大樓旁  Daan Dist.  YouBike2.0_NTUST(Back Gate)   \n",
       "3  基隆路四段41巷68弄臺科帆船大樓旁  Daan Dist.  YouBike2.0_NTUST(Back Gate)   \n",
       "4  基隆路四段41巷68弄臺科帆船大樓旁  Daan Dist.  YouBike2.0_NTUST(Back Gate)   \n",
       "\n",
       "                                   aren  act        srcUpdateTime  \\\n",
       "0  Aly. 68， Ln. 41， Sec. 4， Keelung Rd.    1  2024-11-18 12:28:23   \n",
       "1  Aly. 68， Ln. 41， Sec. 4， Keelung Rd.    1  2024-11-18 12:30:34   \n",
       "2  Aly. 68， Ln. 41， Sec. 4， Keelung Rd.    1  2024-11-18 12:35:23   \n",
       "3  Aly. 68， Ln. 41， Sec. 4， Keelung Rd.    1  2024-11-18 12:37:23   \n",
       "4  Aly. 68， Ln. 41， Sec. 4， Keelung Rd.    1  2024-11-18 12:39:22   \n",
       "\n",
       "            updateTime             infoTime    infoDate  total  \\\n",
       "0  2024-11-18 12:28:52  2024-11-18 12:26:14  2024-11-18     39   \n",
       "1  2024-11-18 12:30:52  2024-11-18 12:30:17  2024-11-18     39   \n",
       "2  2024-11-18 12:35:52  2024-11-18 12:35:16  2024-11-18     39   \n",
       "3  2024-11-18 12:37:52  2024-11-18 12:37:15  2024-11-18     39   \n",
       "4  2024-11-18 12:39:52  2024-11-18 12:39:15  2024-11-18     39   \n",
       "\n",
       "   available_rent_bikes  latitude  longitude  available_return_bikes  \n",
       "0                    33  25.01182  121.54165                       6  \n",
       "1                    30  25.01182  121.54165                       9  \n",
       "2                    29  25.01182  121.54165                      10  \n",
       "3                    28  25.01182  121.54165                      11  \n",
       "4                    29  25.01182  121.54165                      10  "
      ]
     },
     "execution_count": 2,
     "metadata": {},
     "output_type": "execute_result"
    }
   ],
   "source": [
    "df.head()"
   ]
  },
  {
   "cell_type": "code",
   "execution_count": 3,
   "metadata": {},
   "outputs": [
    {
     "name": "stderr",
     "output_type": "stream",
     "text": [
      "/tmp/ipykernel_565843/2809074366.py:17: FutureWarning: 'H' is deprecated and will be removed in a future version, please use 'h' instead.\n",
      "  df = df.resample('1H')[numeric_cols].mean().ffill()\n"
     ]
    }
   ],
   "source": [
    "import pandas as pd\n",
    "import numpy as np\n",
    "\n",
    "# Use srcUpdateTime as datetime index\n",
    "df['srcUpdateTime'] = pd.to_datetime(df['srcUpdateTime'])\n",
    "df = df.sort_values('srcUpdateTime')\n",
    "df = df.set_index('srcUpdateTime')\n",
    "\n",
    "# Drop rows where available_rent_bikes is NaN\n",
    "df = df.dropna(subset=['available_rent_bikes'])\n",
    "\n",
    "# Optional: If you'd like to ensure hourly frequency, resample hourly\n",
    "# and forward fill any missing slots (if that makes sense in your data)\n",
    "# Adjust as needed based on the data granularity.\n",
    "df = df.drop(columns=['sna', 'sarea', 'sareaen', 'snaen', 'ar', 'aren', 'mday', 'updateTime', 'infoTime', 'infoDate'], errors='ignore')\n",
    "numeric_cols = df.select_dtypes(include=[float, int]).columns\n",
    "df = df.resample('1H')[numeric_cols].mean().ffill()\n",
    "\n",
    "# Add temporal features\n",
    "df['hour'] = df.index.hour\n",
    "df['day_of_week'] = df.index.dayofweek\n",
    "df['is_weekend'] = (df['day_of_week'] >= 5).astype(int)\n",
    "\n",
    "# Cyclical encoding of time features\n",
    "df['hour_sin'] = np.sin(2 * np.pi * df['hour'] / 24)\n",
    "df['hour_cos'] = np.cos(2 * np.pi * df['hour'] / 24)\n",
    "df['dow_sin'] = np.sin(2 * np.pi * df['day_of_week'] / 7)\n",
    "df['dow_cos'] = np.cos(2 * np.pi * df['day_of_week'] / 7)\n",
    "\n",
    "from sklearn.preprocessing import StandardScaler\n",
    "\n",
    "# Separate features and target\n",
    "target_col = 'available_rent_bikes'\n",
    "feature_cols = ['hour_sin', 'hour_cos', 'dow_sin', 'dow_cos']  # for example\n",
    "\n",
    "X_scaler = StandardScaler()\n",
    "y_scaler = StandardScaler()\n",
    "\n",
    "# Fit and transform features\n",
    "df[feature_cols] = X_scaler.fit_transform(df[feature_cols])\n",
    "\n",
    "# Fit and transform target separately\n",
    "df[[target_col]] = y_scaler.fit_transform(df[[target_col]])\n",
    "\n",
    "# Now you can proceed with the sequence creation and modeling steps as previously outlined.\n"
   ]
  },
  {
   "cell_type": "code",
   "execution_count": 4,
   "metadata": {},
   "outputs": [
    {
     "data": {
      "text/plain": [
       "Index(['act', 'total', 'available_rent_bikes', 'latitude', 'longitude',\n",
       "       'available_return_bikes', 'hour', 'day_of_week', 'is_weekend',\n",
       "       'hour_sin', 'hour_cos', 'dow_sin', 'dow_cos'],\n",
       "      dtype='object')"
      ]
     },
     "execution_count": 4,
     "metadata": {},
     "output_type": "execute_result"
    }
   ],
   "source": [
    "df.columns"
   ]
  },
  {
   "cell_type": "code",
   "execution_count": 5,
   "metadata": {},
   "outputs": [],
   "source": [
    "def create_sequences(df, target_col='available_rent_bikes', forecast_horizon=24):\n",
    "    \"\"\"\n",
    "    Create sequences for each day: \n",
    "    Input: 48 hrs of data (24 hrs from previous day + 24 hrs from same weekday last week)\n",
    "    Output: 24 hrs of the next day.\n",
    "    \"\"\"\n",
    "    \n",
    "    # Convert index to daily blocks. We must ensure continuous daily blocks.\n",
    "    # Assuming data is hourly with no gaps:\n",
    "    # We'll identify each unique date.\n",
    "    df['date'] = df.index.date\n",
    "    unique_dates = df['date'].unique()\n",
    "    \n",
    "    X, Y = [], []\n",
    "    \n",
    "    # We start from day i (skipping the first week + 1 day to have enough history)\n",
    "    for i in range(7+1, len(unique_dates)):\n",
    "        day = unique_dates[i]\n",
    "        prev_day = unique_dates[i-1]\n",
    "        week_before_day = unique_dates[i-7]\n",
    "        \n",
    "        # Extract the data for these days\n",
    "        day_df = df[df['date'] == day]\n",
    "        prev_day_df = df[df['date'] == prev_day]\n",
    "        week_before_day_df = df[df['date'] == week_before_day]\n",
    "        \n",
    "        # We need exactly 24 hrs per day. If not exactly 24 rows, skip.\n",
    "        if len(day_df) != 24 or len(prev_day_df) != 24 or len(week_before_day_df) != 24:\n",
    "            continue\n",
    "        \n",
    "        # Inputs: concat previous day's 24 hours and week-before day's 24 hours\n",
    "        input_sequence = pd.concat([prev_day_df, week_before_day_df], axis=0)\n",
    "        \n",
    "        # Output: next day (the current day) 24 hours of the target variable\n",
    "        output_sequence = day_df[target_col].values\n",
    "        \n",
    "        # Select input features (except the target_col, or keep it if you want)\n",
    "        # Let's assume we use all features except 'date'\n",
    "        input_features = input_sequence.drop(columns=['date']).values\n",
    "        \n",
    "        X.append(input_features)\n",
    "        Y.append(output_sequence)\n",
    "    \n",
    "    return np.array(X), np.array(Y)"
   ]
  },
  {
   "cell_type": "code",
   "execution_count": 6,
   "metadata": {},
   "outputs": [
    {
     "name": "stdout",
     "output_type": "stream",
     "text": [
      "X shape: (22, 48, 13)\n",
      "Y shape: (22, 24)\n"
     ]
    }
   ],
   "source": [
    "import numpy as np\n",
    "\n",
    "X, Y = create_sequences(df)\n",
    "print(\"X shape:\", X.shape)  # Expect (num_samples, 48 hours, number_of_features)\n",
    "print(\"Y shape:\", Y.shape)  # Expect (num_samples, 24)\n",
    "\n",
    "# test train protocol\n",
    "train_size = int(len(X)*0.8)\n",
    "X_train, X_test = X[:train_size], X[train_size:]\n",
    "Y_train, Y_test = Y[:train_size], Y[train_size:]\n",
    "Y_train = Y_train[..., np.newaxis] # Now shape (batch_size, 24, 1)\n",
    "Y_test = Y_test[..., np.newaxis]\n",
    "\n"
   ]
  },
  {
   "cell_type": "code",
   "execution_count": 7,
   "metadata": {},
   "outputs": [],
   "source": [
    "from model import PositionalEmbedding"
   ]
  },
  {
   "cell_type": "code",
   "execution_count": 8,
   "metadata": {},
   "outputs": [],
   "source": [
    "def transformer_encoder(inputs, num_heads, dff, dropout=0.1):\n",
    "    # Multi-head attention\n",
    "    attn_output = layers.MultiHeadAttention(num_heads=num_heads, key_dim=inputs.shape[-1])(inputs, inputs)\n",
    "    attn_output = layers.Dropout(dropout)(attn_output)\n",
    "    out1 = layers.LayerNormalization(epsilon=1e-6)(inputs + attn_output)\n",
    "\n",
    "    # Feed-forward layer\n",
    "    ffn = tf.keras.Sequential([\n",
    "        layers.Dense(dff, activation='relu'),\n",
    "        layers.Dense(inputs.shape[-1])\n",
    "    ])\n",
    "    ffn_output = ffn(out1)\n",
    "    ffn_output = layers.Dropout(dropout)(ffn_output)\n",
    "    out2 = layers.LayerNormalization(epsilon=1e-6)(out1 + ffn_output)\n",
    "\n",
    "    return out2\n"
   ]
  },
  {
   "cell_type": "code",
   "execution_count": 9,
   "metadata": {},
   "outputs": [
    {
     "name": "stderr",
     "output_type": "stream",
     "text": [
      "W0000 00:00:1734506581.311326  565843 gpu_device.cc:2344] Cannot dlopen some GPU libraries. Please make sure the missing libraries mentioned above are installed properly if you would like to use GPU. Follow the guide at https://www.tensorflow.org/install/gpu for how to download and setup the required libraries for your platform.\n",
      "Skipping registering GPU devices...\n"
     ]
    },
    {
     "data": {
      "text/html": [
       "<pre style=\"white-space:pre;overflow-x:auto;line-height:normal;font-family:Menlo,'DejaVu Sans Mono',consolas,'Courier New',monospace\"><span style=\"font-weight: bold\">Model: \"functional_2\"</span>\n",
       "</pre>\n"
      ],
      "text/plain": [
       "\u001b[1mModel: \"functional_2\"\u001b[0m\n"
      ]
     },
     "metadata": {},
     "output_type": "display_data"
    },
    {
     "data": {
      "text/html": [
       "<pre style=\"white-space:pre;overflow-x:auto;line-height:normal;font-family:Menlo,'DejaVu Sans Mono',consolas,'Courier New',monospace\">┏━━━━━━━━━━━━━━━━━━━━━┳━━━━━━━━━━━━━━━━━━━┳━━━━━━━━━━━━┳━━━━━━━━━━━━━━━━━━━┓\n",
       "┃<span style=\"font-weight: bold\"> Layer (type)        </span>┃<span style=\"font-weight: bold\"> Output Shape      </span>┃<span style=\"font-weight: bold\">    Param # </span>┃<span style=\"font-weight: bold\"> Connected to      </span>┃\n",
       "┡━━━━━━━━━━━━━━━━━━━━━╇━━━━━━━━━━━━━━━━━━━╇━━━━━━━━━━━━╇━━━━━━━━━━━━━━━━━━━┩\n",
       "│ input_layer         │ (<span style=\"color: #00d7ff; text-decoration-color: #00d7ff\">None</span>, <span style=\"color: #00af00; text-decoration-color: #00af00\">48</span>, <span style=\"color: #00af00; text-decoration-color: #00af00\">13</span>)    │          <span style=\"color: #00af00; text-decoration-color: #00af00\">0</span> │ -                 │\n",
       "│ (<span style=\"color: #0087ff; text-decoration-color: #0087ff\">InputLayer</span>)        │                   │            │                   │\n",
       "├─────────────────────┼───────────────────┼────────────┼───────────────────┤\n",
       "│ dense (<span style=\"color: #0087ff; text-decoration-color: #0087ff\">Dense</span>)       │ (<span style=\"color: #00d7ff; text-decoration-color: #00d7ff\">None</span>, <span style=\"color: #00af00; text-decoration-color: #00af00\">48</span>, <span style=\"color: #00af00; text-decoration-color: #00af00\">64</span>)    │        <span style=\"color: #00af00; text-decoration-color: #00af00\">896</span> │ input_layer[<span style=\"color: #00af00; text-decoration-color: #00af00\">0</span>][<span style=\"color: #00af00; text-decoration-color: #00af00\">0</span>] │\n",
       "├─────────────────────┼───────────────────┼────────────┼───────────────────┤\n",
       "│ positional_embeddi… │ (<span style=\"color: #00d7ff; text-decoration-color: #00d7ff\">None</span>, <span style=\"color: #00af00; text-decoration-color: #00af00\">48</span>, <span style=\"color: #00af00; text-decoration-color: #00af00\">64</span>)    │      <span style=\"color: #00af00; text-decoration-color: #00af00\">3,072</span> │ dense[<span style=\"color: #00af00; text-decoration-color: #00af00\">0</span>][<span style=\"color: #00af00; text-decoration-color: #00af00\">0</span>]       │\n",
       "│ (<span style=\"color: #0087ff; text-decoration-color: #0087ff\">PositionalEmbeddi…</span> │                   │            │                   │\n",
       "├─────────────────────┼───────────────────┼────────────┼───────────────────┤\n",
       "│ multi_head_attenti… │ (<span style=\"color: #00d7ff; text-decoration-color: #00d7ff\">None</span>, <span style=\"color: #00af00; text-decoration-color: #00af00\">48</span>, <span style=\"color: #00af00; text-decoration-color: #00af00\">64</span>)    │     <span style=\"color: #00af00; text-decoration-color: #00af00\">66,368</span> │ positional_embed… │\n",
       "│ (<span style=\"color: #0087ff; text-decoration-color: #0087ff\">MultiHeadAttentio…</span> │                   │            │ positional_embed… │\n",
       "├─────────────────────┼───────────────────┼────────────┼───────────────────┤\n",
       "│ dropout_1 (<span style=\"color: #0087ff; text-decoration-color: #0087ff\">Dropout</span>) │ (<span style=\"color: #00d7ff; text-decoration-color: #00d7ff\">None</span>, <span style=\"color: #00af00; text-decoration-color: #00af00\">48</span>, <span style=\"color: #00af00; text-decoration-color: #00af00\">64</span>)    │          <span style=\"color: #00af00; text-decoration-color: #00af00\">0</span> │ multi_head_atten… │\n",
       "├─────────────────────┼───────────────────┼────────────┼───────────────────┤\n",
       "│ add (<span style=\"color: #0087ff; text-decoration-color: #0087ff\">Add</span>)           │ (<span style=\"color: #00d7ff; text-decoration-color: #00d7ff\">None</span>, <span style=\"color: #00af00; text-decoration-color: #00af00\">48</span>, <span style=\"color: #00af00; text-decoration-color: #00af00\">64</span>)    │          <span style=\"color: #00af00; text-decoration-color: #00af00\">0</span> │ positional_embed… │\n",
       "│                     │                   │            │ dropout_1[<span style=\"color: #00af00; text-decoration-color: #00af00\">0</span>][<span style=\"color: #00af00; text-decoration-color: #00af00\">0</span>]   │\n",
       "├─────────────────────┼───────────────────┼────────────┼───────────────────┤\n",
       "│ layer_normalization │ (<span style=\"color: #00d7ff; text-decoration-color: #00d7ff\">None</span>, <span style=\"color: #00af00; text-decoration-color: #00af00\">48</span>, <span style=\"color: #00af00; text-decoration-color: #00af00\">64</span>)    │        <span style=\"color: #00af00; text-decoration-color: #00af00\">128</span> │ add[<span style=\"color: #00af00; text-decoration-color: #00af00\">0</span>][<span style=\"color: #00af00; text-decoration-color: #00af00\">0</span>]         │\n",
       "│ (<span style=\"color: #0087ff; text-decoration-color: #0087ff\">LayerNormalizatio…</span> │                   │            │                   │\n",
       "├─────────────────────┼───────────────────┼────────────┼───────────────────┤\n",
       "│ sequential          │ (<span style=\"color: #00d7ff; text-decoration-color: #00d7ff\">None</span>, <span style=\"color: #00af00; text-decoration-color: #00af00\">48</span>, <span style=\"color: #00af00; text-decoration-color: #00af00\">64</span>)    │     <span style=\"color: #00af00; text-decoration-color: #00af00\">16,576</span> │ layer_normalizat… │\n",
       "│ (<span style=\"color: #0087ff; text-decoration-color: #0087ff\">Sequential</span>)        │                   │            │                   │\n",
       "├─────────────────────┼───────────────────┼────────────┼───────────────────┤\n",
       "│ dropout_2 (<span style=\"color: #0087ff; text-decoration-color: #0087ff\">Dropout</span>) │ (<span style=\"color: #00d7ff; text-decoration-color: #00d7ff\">None</span>, <span style=\"color: #00af00; text-decoration-color: #00af00\">48</span>, <span style=\"color: #00af00; text-decoration-color: #00af00\">64</span>)    │          <span style=\"color: #00af00; text-decoration-color: #00af00\">0</span> │ sequential[<span style=\"color: #00af00; text-decoration-color: #00af00\">0</span>][<span style=\"color: #00af00; text-decoration-color: #00af00\">0</span>]  │\n",
       "├─────────────────────┼───────────────────┼────────────┼───────────────────┤\n",
       "│ add_1 (<span style=\"color: #0087ff; text-decoration-color: #0087ff\">Add</span>)         │ (<span style=\"color: #00d7ff; text-decoration-color: #00d7ff\">None</span>, <span style=\"color: #00af00; text-decoration-color: #00af00\">48</span>, <span style=\"color: #00af00; text-decoration-color: #00af00\">64</span>)    │          <span style=\"color: #00af00; text-decoration-color: #00af00\">0</span> │ layer_normalizat… │\n",
       "│                     │                   │            │ dropout_2[<span style=\"color: #00af00; text-decoration-color: #00af00\">0</span>][<span style=\"color: #00af00; text-decoration-color: #00af00\">0</span>]   │\n",
       "├─────────────────────┼───────────────────┼────────────┼───────────────────┤\n",
       "│ layer_normalizatio… │ (<span style=\"color: #00d7ff; text-decoration-color: #00d7ff\">None</span>, <span style=\"color: #00af00; text-decoration-color: #00af00\">48</span>, <span style=\"color: #00af00; text-decoration-color: #00af00\">64</span>)    │        <span style=\"color: #00af00; text-decoration-color: #00af00\">128</span> │ add_1[<span style=\"color: #00af00; text-decoration-color: #00af00\">0</span>][<span style=\"color: #00af00; text-decoration-color: #00af00\">0</span>]       │\n",
       "│ (<span style=\"color: #0087ff; text-decoration-color: #0087ff\">LayerNormalizatio…</span> │                   │            │                   │\n",
       "├─────────────────────┼───────────────────┼────────────┼───────────────────┤\n",
       "│ multi_head_attenti… │ (<span style=\"color: #00d7ff; text-decoration-color: #00d7ff\">None</span>, <span style=\"color: #00af00; text-decoration-color: #00af00\">48</span>, <span style=\"color: #00af00; text-decoration-color: #00af00\">64</span>)    │     <span style=\"color: #00af00; text-decoration-color: #00af00\">66,368</span> │ layer_normalizat… │\n",
       "│ (<span style=\"color: #0087ff; text-decoration-color: #0087ff\">MultiHeadAttentio…</span> │                   │            │ layer_normalizat… │\n",
       "├─────────────────────┼───────────────────┼────────────┼───────────────────┤\n",
       "│ dropout_4 (<span style=\"color: #0087ff; text-decoration-color: #0087ff\">Dropout</span>) │ (<span style=\"color: #00d7ff; text-decoration-color: #00d7ff\">None</span>, <span style=\"color: #00af00; text-decoration-color: #00af00\">48</span>, <span style=\"color: #00af00; text-decoration-color: #00af00\">64</span>)    │          <span style=\"color: #00af00; text-decoration-color: #00af00\">0</span> │ multi_head_atten… │\n",
       "├─────────────────────┼───────────────────┼────────────┼───────────────────┤\n",
       "│ add_2 (<span style=\"color: #0087ff; text-decoration-color: #0087ff\">Add</span>)         │ (<span style=\"color: #00d7ff; text-decoration-color: #00d7ff\">None</span>, <span style=\"color: #00af00; text-decoration-color: #00af00\">48</span>, <span style=\"color: #00af00; text-decoration-color: #00af00\">64</span>)    │          <span style=\"color: #00af00; text-decoration-color: #00af00\">0</span> │ layer_normalizat… │\n",
       "│                     │                   │            │ dropout_4[<span style=\"color: #00af00; text-decoration-color: #00af00\">0</span>][<span style=\"color: #00af00; text-decoration-color: #00af00\">0</span>]   │\n",
       "├─────────────────────┼───────────────────┼────────────┼───────────────────┤\n",
       "│ layer_normalizatio… │ (<span style=\"color: #00d7ff; text-decoration-color: #00d7ff\">None</span>, <span style=\"color: #00af00; text-decoration-color: #00af00\">48</span>, <span style=\"color: #00af00; text-decoration-color: #00af00\">64</span>)    │        <span style=\"color: #00af00; text-decoration-color: #00af00\">128</span> │ add_2[<span style=\"color: #00af00; text-decoration-color: #00af00\">0</span>][<span style=\"color: #00af00; text-decoration-color: #00af00\">0</span>]       │\n",
       "│ (<span style=\"color: #0087ff; text-decoration-color: #0087ff\">LayerNormalizatio…</span> │                   │            │                   │\n",
       "├─────────────────────┼───────────────────┼────────────┼───────────────────┤\n",
       "│ sequential_1        │ (<span style=\"color: #00d7ff; text-decoration-color: #00d7ff\">None</span>, <span style=\"color: #00af00; text-decoration-color: #00af00\">48</span>, <span style=\"color: #00af00; text-decoration-color: #00af00\">64</span>)    │     <span style=\"color: #00af00; text-decoration-color: #00af00\">16,576</span> │ layer_normalizat… │\n",
       "│ (<span style=\"color: #0087ff; text-decoration-color: #0087ff\">Sequential</span>)        │                   │            │                   │\n",
       "├─────────────────────┼───────────────────┼────────────┼───────────────────┤\n",
       "│ dropout_5 (<span style=\"color: #0087ff; text-decoration-color: #0087ff\">Dropout</span>) │ (<span style=\"color: #00d7ff; text-decoration-color: #00d7ff\">None</span>, <span style=\"color: #00af00; text-decoration-color: #00af00\">48</span>, <span style=\"color: #00af00; text-decoration-color: #00af00\">64</span>)    │          <span style=\"color: #00af00; text-decoration-color: #00af00\">0</span> │ sequential_1[<span style=\"color: #00af00; text-decoration-color: #00af00\">0</span>][<span style=\"color: #00af00; text-decoration-color: #00af00\">…</span> │\n",
       "├─────────────────────┼───────────────────┼────────────┼───────────────────┤\n",
       "│ add_3 (<span style=\"color: #0087ff; text-decoration-color: #0087ff\">Add</span>)         │ (<span style=\"color: #00d7ff; text-decoration-color: #00d7ff\">None</span>, <span style=\"color: #00af00; text-decoration-color: #00af00\">48</span>, <span style=\"color: #00af00; text-decoration-color: #00af00\">64</span>)    │          <span style=\"color: #00af00; text-decoration-color: #00af00\">0</span> │ layer_normalizat… │\n",
       "│                     │                   │            │ dropout_5[<span style=\"color: #00af00; text-decoration-color: #00af00\">0</span>][<span style=\"color: #00af00; text-decoration-color: #00af00\">0</span>]   │\n",
       "├─────────────────────┼───────────────────┼────────────┼───────────────────┤\n",
       "│ layer_normalizatio… │ (<span style=\"color: #00d7ff; text-decoration-color: #00d7ff\">None</span>, <span style=\"color: #00af00; text-decoration-color: #00af00\">48</span>, <span style=\"color: #00af00; text-decoration-color: #00af00\">64</span>)    │        <span style=\"color: #00af00; text-decoration-color: #00af00\">128</span> │ add_3[<span style=\"color: #00af00; text-decoration-color: #00af00\">0</span>][<span style=\"color: #00af00; text-decoration-color: #00af00\">0</span>]       │\n",
       "│ (<span style=\"color: #0087ff; text-decoration-color: #0087ff\">LayerNormalizatio…</span> │                   │            │                   │\n",
       "├─────────────────────┼───────────────────┼────────────┼───────────────────┤\n",
       "│ flatten (<span style=\"color: #0087ff; text-decoration-color: #0087ff\">Flatten</span>)   │ (<span style=\"color: #00d7ff; text-decoration-color: #00d7ff\">None</span>, <span style=\"color: #00af00; text-decoration-color: #00af00\">3072</span>)      │          <span style=\"color: #00af00; text-decoration-color: #00af00\">0</span> │ layer_normalizat… │\n",
       "├─────────────────────┼───────────────────┼────────────┼───────────────────┤\n",
       "│ dense_5 (<span style=\"color: #0087ff; text-decoration-color: #0087ff\">Dense</span>)     │ (<span style=\"color: #00d7ff; text-decoration-color: #00d7ff\">None</span>, <span style=\"color: #00af00; text-decoration-color: #00af00\">24</span>)        │     <span style=\"color: #00af00; text-decoration-color: #00af00\">73,752</span> │ flatten[<span style=\"color: #00af00; text-decoration-color: #00af00\">0</span>][<span style=\"color: #00af00; text-decoration-color: #00af00\">0</span>]     │\n",
       "├─────────────────────┼───────────────────┼────────────┼───────────────────┤\n",
       "│ reshape (<span style=\"color: #0087ff; text-decoration-color: #0087ff\">Reshape</span>)   │ (<span style=\"color: #00d7ff; text-decoration-color: #00d7ff\">None</span>, <span style=\"color: #00af00; text-decoration-color: #00af00\">24</span>, <span style=\"color: #00af00; text-decoration-color: #00af00\">1</span>)     │          <span style=\"color: #00af00; text-decoration-color: #00af00\">0</span> │ dense_5[<span style=\"color: #00af00; text-decoration-color: #00af00\">0</span>][<span style=\"color: #00af00; text-decoration-color: #00af00\">0</span>]     │\n",
       "└─────────────────────┴───────────────────┴────────────┴───────────────────┘\n",
       "</pre>\n"
      ],
      "text/plain": [
       "┏━━━━━━━━━━━━━━━━━━━━━┳━━━━━━━━━━━━━━━━━━━┳━━━━━━━━━━━━┳━━━━━━━━━━━━━━━━━━━┓\n",
       "┃\u001b[1m \u001b[0m\u001b[1mLayer (type)       \u001b[0m\u001b[1m \u001b[0m┃\u001b[1m \u001b[0m\u001b[1mOutput Shape     \u001b[0m\u001b[1m \u001b[0m┃\u001b[1m \u001b[0m\u001b[1m   Param #\u001b[0m\u001b[1m \u001b[0m┃\u001b[1m \u001b[0m\u001b[1mConnected to     \u001b[0m\u001b[1m \u001b[0m┃\n",
       "┡━━━━━━━━━━━━━━━━━━━━━╇━━━━━━━━━━━━━━━━━━━╇━━━━━━━━━━━━╇━━━━━━━━━━━━━━━━━━━┩\n",
       "│ input_layer         │ (\u001b[38;5;45mNone\u001b[0m, \u001b[38;5;34m48\u001b[0m, \u001b[38;5;34m13\u001b[0m)    │          \u001b[38;5;34m0\u001b[0m │ -                 │\n",
       "│ (\u001b[38;5;33mInputLayer\u001b[0m)        │                   │            │                   │\n",
       "├─────────────────────┼───────────────────┼────────────┼───────────────────┤\n",
       "│ dense (\u001b[38;5;33mDense\u001b[0m)       │ (\u001b[38;5;45mNone\u001b[0m, \u001b[38;5;34m48\u001b[0m, \u001b[38;5;34m64\u001b[0m)    │        \u001b[38;5;34m896\u001b[0m │ input_layer[\u001b[38;5;34m0\u001b[0m][\u001b[38;5;34m0\u001b[0m] │\n",
       "├─────────────────────┼───────────────────┼────────────┼───────────────────┤\n",
       "│ positional_embeddi… │ (\u001b[38;5;45mNone\u001b[0m, \u001b[38;5;34m48\u001b[0m, \u001b[38;5;34m64\u001b[0m)    │      \u001b[38;5;34m3,072\u001b[0m │ dense[\u001b[38;5;34m0\u001b[0m][\u001b[38;5;34m0\u001b[0m]       │\n",
       "│ (\u001b[38;5;33mPositionalEmbeddi…\u001b[0m │                   │            │                   │\n",
       "├─────────────────────┼───────────────────┼────────────┼───────────────────┤\n",
       "│ multi_head_attenti… │ (\u001b[38;5;45mNone\u001b[0m, \u001b[38;5;34m48\u001b[0m, \u001b[38;5;34m64\u001b[0m)    │     \u001b[38;5;34m66,368\u001b[0m │ positional_embed… │\n",
       "│ (\u001b[38;5;33mMultiHeadAttentio…\u001b[0m │                   │            │ positional_embed… │\n",
       "├─────────────────────┼───────────────────┼────────────┼───────────────────┤\n",
       "│ dropout_1 (\u001b[38;5;33mDropout\u001b[0m) │ (\u001b[38;5;45mNone\u001b[0m, \u001b[38;5;34m48\u001b[0m, \u001b[38;5;34m64\u001b[0m)    │          \u001b[38;5;34m0\u001b[0m │ multi_head_atten… │\n",
       "├─────────────────────┼───────────────────┼────────────┼───────────────────┤\n",
       "│ add (\u001b[38;5;33mAdd\u001b[0m)           │ (\u001b[38;5;45mNone\u001b[0m, \u001b[38;5;34m48\u001b[0m, \u001b[38;5;34m64\u001b[0m)    │          \u001b[38;5;34m0\u001b[0m │ positional_embed… │\n",
       "│                     │                   │            │ dropout_1[\u001b[38;5;34m0\u001b[0m][\u001b[38;5;34m0\u001b[0m]   │\n",
       "├─────────────────────┼───────────────────┼────────────┼───────────────────┤\n",
       "│ layer_normalization │ (\u001b[38;5;45mNone\u001b[0m, \u001b[38;5;34m48\u001b[0m, \u001b[38;5;34m64\u001b[0m)    │        \u001b[38;5;34m128\u001b[0m │ add[\u001b[38;5;34m0\u001b[0m][\u001b[38;5;34m0\u001b[0m]         │\n",
       "│ (\u001b[38;5;33mLayerNormalizatio…\u001b[0m │                   │            │                   │\n",
       "├─────────────────────┼───────────────────┼────────────┼───────────────────┤\n",
       "│ sequential          │ (\u001b[38;5;45mNone\u001b[0m, \u001b[38;5;34m48\u001b[0m, \u001b[38;5;34m64\u001b[0m)    │     \u001b[38;5;34m16,576\u001b[0m │ layer_normalizat… │\n",
       "│ (\u001b[38;5;33mSequential\u001b[0m)        │                   │            │                   │\n",
       "├─────────────────────┼───────────────────┼────────────┼───────────────────┤\n",
       "│ dropout_2 (\u001b[38;5;33mDropout\u001b[0m) │ (\u001b[38;5;45mNone\u001b[0m, \u001b[38;5;34m48\u001b[0m, \u001b[38;5;34m64\u001b[0m)    │          \u001b[38;5;34m0\u001b[0m │ sequential[\u001b[38;5;34m0\u001b[0m][\u001b[38;5;34m0\u001b[0m]  │\n",
       "├─────────────────────┼───────────────────┼────────────┼───────────────────┤\n",
       "│ add_1 (\u001b[38;5;33mAdd\u001b[0m)         │ (\u001b[38;5;45mNone\u001b[0m, \u001b[38;5;34m48\u001b[0m, \u001b[38;5;34m64\u001b[0m)    │          \u001b[38;5;34m0\u001b[0m │ layer_normalizat… │\n",
       "│                     │                   │            │ dropout_2[\u001b[38;5;34m0\u001b[0m][\u001b[38;5;34m0\u001b[0m]   │\n",
       "├─────────────────────┼───────────────────┼────────────┼───────────────────┤\n",
       "│ layer_normalizatio… │ (\u001b[38;5;45mNone\u001b[0m, \u001b[38;5;34m48\u001b[0m, \u001b[38;5;34m64\u001b[0m)    │        \u001b[38;5;34m128\u001b[0m │ add_1[\u001b[38;5;34m0\u001b[0m][\u001b[38;5;34m0\u001b[0m]       │\n",
       "│ (\u001b[38;5;33mLayerNormalizatio…\u001b[0m │                   │            │                   │\n",
       "├─────────────────────┼───────────────────┼────────────┼───────────────────┤\n",
       "│ multi_head_attenti… │ (\u001b[38;5;45mNone\u001b[0m, \u001b[38;5;34m48\u001b[0m, \u001b[38;5;34m64\u001b[0m)    │     \u001b[38;5;34m66,368\u001b[0m │ layer_normalizat… │\n",
       "│ (\u001b[38;5;33mMultiHeadAttentio…\u001b[0m │                   │            │ layer_normalizat… │\n",
       "├─────────────────────┼───────────────────┼────────────┼───────────────────┤\n",
       "│ dropout_4 (\u001b[38;5;33mDropout\u001b[0m) │ (\u001b[38;5;45mNone\u001b[0m, \u001b[38;5;34m48\u001b[0m, \u001b[38;5;34m64\u001b[0m)    │          \u001b[38;5;34m0\u001b[0m │ multi_head_atten… │\n",
       "├─────────────────────┼───────────────────┼────────────┼───────────────────┤\n",
       "│ add_2 (\u001b[38;5;33mAdd\u001b[0m)         │ (\u001b[38;5;45mNone\u001b[0m, \u001b[38;5;34m48\u001b[0m, \u001b[38;5;34m64\u001b[0m)    │          \u001b[38;5;34m0\u001b[0m │ layer_normalizat… │\n",
       "│                     │                   │            │ dropout_4[\u001b[38;5;34m0\u001b[0m][\u001b[38;5;34m0\u001b[0m]   │\n",
       "├─────────────────────┼───────────────────┼────────────┼───────────────────┤\n",
       "│ layer_normalizatio… │ (\u001b[38;5;45mNone\u001b[0m, \u001b[38;5;34m48\u001b[0m, \u001b[38;5;34m64\u001b[0m)    │        \u001b[38;5;34m128\u001b[0m │ add_2[\u001b[38;5;34m0\u001b[0m][\u001b[38;5;34m0\u001b[0m]       │\n",
       "│ (\u001b[38;5;33mLayerNormalizatio…\u001b[0m │                   │            │                   │\n",
       "├─────────────────────┼───────────────────┼────────────┼───────────────────┤\n",
       "│ sequential_1        │ (\u001b[38;5;45mNone\u001b[0m, \u001b[38;5;34m48\u001b[0m, \u001b[38;5;34m64\u001b[0m)    │     \u001b[38;5;34m16,576\u001b[0m │ layer_normalizat… │\n",
       "│ (\u001b[38;5;33mSequential\u001b[0m)        │                   │            │                   │\n",
       "├─────────────────────┼───────────────────┼────────────┼───────────────────┤\n",
       "│ dropout_5 (\u001b[38;5;33mDropout\u001b[0m) │ (\u001b[38;5;45mNone\u001b[0m, \u001b[38;5;34m48\u001b[0m, \u001b[38;5;34m64\u001b[0m)    │          \u001b[38;5;34m0\u001b[0m │ sequential_1[\u001b[38;5;34m0\u001b[0m][\u001b[38;5;34m…\u001b[0m │\n",
       "├─────────────────────┼───────────────────┼────────────┼───────────────────┤\n",
       "│ add_3 (\u001b[38;5;33mAdd\u001b[0m)         │ (\u001b[38;5;45mNone\u001b[0m, \u001b[38;5;34m48\u001b[0m, \u001b[38;5;34m64\u001b[0m)    │          \u001b[38;5;34m0\u001b[0m │ layer_normalizat… │\n",
       "│                     │                   │            │ dropout_5[\u001b[38;5;34m0\u001b[0m][\u001b[38;5;34m0\u001b[0m]   │\n",
       "├─────────────────────┼───────────────────┼────────────┼───────────────────┤\n",
       "│ layer_normalizatio… │ (\u001b[38;5;45mNone\u001b[0m, \u001b[38;5;34m48\u001b[0m, \u001b[38;5;34m64\u001b[0m)    │        \u001b[38;5;34m128\u001b[0m │ add_3[\u001b[38;5;34m0\u001b[0m][\u001b[38;5;34m0\u001b[0m]       │\n",
       "│ (\u001b[38;5;33mLayerNormalizatio…\u001b[0m │                   │            │                   │\n",
       "├─────────────────────┼───────────────────┼────────────┼───────────────────┤\n",
       "│ flatten (\u001b[38;5;33mFlatten\u001b[0m)   │ (\u001b[38;5;45mNone\u001b[0m, \u001b[38;5;34m3072\u001b[0m)      │          \u001b[38;5;34m0\u001b[0m │ layer_normalizat… │\n",
       "├─────────────────────┼───────────────────┼────────────┼───────────────────┤\n",
       "│ dense_5 (\u001b[38;5;33mDense\u001b[0m)     │ (\u001b[38;5;45mNone\u001b[0m, \u001b[38;5;34m24\u001b[0m)        │     \u001b[38;5;34m73,752\u001b[0m │ flatten[\u001b[38;5;34m0\u001b[0m][\u001b[38;5;34m0\u001b[0m]     │\n",
       "├─────────────────────┼───────────────────┼────────────┼───────────────────┤\n",
       "│ reshape (\u001b[38;5;33mReshape\u001b[0m)   │ (\u001b[38;5;45mNone\u001b[0m, \u001b[38;5;34m24\u001b[0m, \u001b[38;5;34m1\u001b[0m)     │          \u001b[38;5;34m0\u001b[0m │ dense_5[\u001b[38;5;34m0\u001b[0m][\u001b[38;5;34m0\u001b[0m]     │\n",
       "└─────────────────────┴───────────────────┴────────────┴───────────────────┘\n"
      ]
     },
     "metadata": {},
     "output_type": "display_data"
    },
    {
     "data": {
      "text/html": [
       "<pre style=\"white-space:pre;overflow-x:auto;line-height:normal;font-family:Menlo,'DejaVu Sans Mono',consolas,'Courier New',monospace\"><span style=\"font-weight: bold\"> Total params: </span><span style=\"color: #00af00; text-decoration-color: #00af00\">244,120</span> (953.59 KB)\n",
       "</pre>\n"
      ],
      "text/plain": [
       "\u001b[1m Total params: \u001b[0m\u001b[38;5;34m244,120\u001b[0m (953.59 KB)\n"
      ]
     },
     "metadata": {},
     "output_type": "display_data"
    },
    {
     "data": {
      "text/html": [
       "<pre style=\"white-space:pre;overflow-x:auto;line-height:normal;font-family:Menlo,'DejaVu Sans Mono',consolas,'Courier New',monospace\"><span style=\"font-weight: bold\"> Trainable params: </span><span style=\"color: #00af00; text-decoration-color: #00af00\">244,120</span> (953.59 KB)\n",
       "</pre>\n"
      ],
      "text/plain": [
       "\u001b[1m Trainable params: \u001b[0m\u001b[38;5;34m244,120\u001b[0m (953.59 KB)\n"
      ]
     },
     "metadata": {},
     "output_type": "display_data"
    },
    {
     "data": {
      "text/html": [
       "<pre style=\"white-space:pre;overflow-x:auto;line-height:normal;font-family:Menlo,'DejaVu Sans Mono',consolas,'Courier New',monospace\"><span style=\"font-weight: bold\"> Non-trainable params: </span><span style=\"color: #00af00; text-decoration-color: #00af00\">0</span> (0.00 B)\n",
       "</pre>\n"
      ],
      "text/plain": [
       "\u001b[1m Non-trainable params: \u001b[0m\u001b[38;5;34m0\u001b[0m (0.00 B)\n"
      ]
     },
     "metadata": {},
     "output_type": "display_data"
    }
   ],
   "source": [
    "input_seq_len = 48  # Example: 48 hours of input\n",
    "num_features = X_train.shape[-1]\n",
    "forecast_horizon = 24\n",
    "\n",
    "d_model = 64        # Embedding size\n",
    "num_heads = 4       # Multi-head attention heads\n",
    "dff = 128           # Units in feed-forward layers\n",
    "depth = 2           # Number of transformer encoder layers\n",
    "\n",
    "inputs = layers.Input(shape=(input_seq_len, num_features))\n",
    "# Project input features to d_model\n",
    "x = layers.Dense(d_model)(inputs)  # Now x should have shape (None, 48, 64)\n",
    "\n",
    "# Now apply positional embedding\n",
    "x = PositionalEmbedding(maxlen=input_seq_len, d_model=d_model)(x)\n",
    "\n",
    "for _ in range(depth):\n",
    "    x = transformer_encoder(x, num_heads, dff)\n",
    "\n",
    "# You can use a global pooling or just take the final sequence step \n",
    "# depending on your forecasting strategy. For forecasting next 24 hrs,\n",
    "# consider a decoder or a simple Dense head that predicts all 24 steps at once.\n",
    "# Here we assume a simple Dense output for all 24 hours at once:\n",
    "x = layers.Flatten()(x)\n",
    "outputs = layers.Dense(forecast_horizon)(x)\n",
    "outputs = layers.Reshape((forecast_horizon, 1))(outputs)\n",
    "\n",
    "model = tf.keras.Model(inputs, outputs)\n",
    "model.compile(optimizer='adam', loss='mse', metrics=['mae'])\n",
    "model.summary()\n"
   ]
  },
  {
   "cell_type": "code",
   "execution_count": 10,
   "metadata": {},
   "outputs": [
    {
     "name": "stdout",
     "output_type": "stream",
     "text": [
      "Epoch 1/15\n",
      "\u001b[1m1/1\u001b[0m \u001b[32m━━━━━━━━━━━━━━━━━━━━\u001b[0m\u001b[37m\u001b[0m \u001b[1m4s\u001b[0m 4s/step - loss: 2.4597 - mae: 1.2946 - val_loss: 5.3175 - val_mae: 2.0707\n",
      "Epoch 2/15\n",
      "\u001b[1m1/1\u001b[0m \u001b[32m━━━━━━━━━━━━━━━━━━━━\u001b[0m\u001b[37m\u001b[0m \u001b[1m0s\u001b[0m 79ms/step - loss: 4.2028 - mae: 1.8077 - val_loss: 2.4125 - val_mae: 1.3095\n",
      "Epoch 3/15\n",
      "\u001b[1m1/1\u001b[0m \u001b[32m━━━━━━━━━━━━━━━━━━━━\u001b[0m\u001b[37m\u001b[0m \u001b[1m0s\u001b[0m 146ms/step - loss: 1.8738 - mae: 1.1122 - val_loss: 1.9072 - val_mae: 1.0458\n",
      "Epoch 4/15\n",
      "\u001b[1m1/1\u001b[0m \u001b[32m━━━━━━━━━━━━━━━━━━━━\u001b[0m\u001b[37m\u001b[0m \u001b[1m0s\u001b[0m 79ms/step - loss: 1.8904 - mae: 1.0924 - val_loss: 1.5240 - val_mae: 0.9578\n",
      "Epoch 5/15\n",
      "\u001b[1m1/1\u001b[0m \u001b[32m━━━━━━━━━━━━━━━━━━━━\u001b[0m\u001b[37m\u001b[0m \u001b[1m0s\u001b[0m 73ms/step - loss: 1.7621 - mae: 1.0698 - val_loss: 1.3531 - val_mae: 0.8942\n",
      "Epoch 6/15\n",
      "\u001b[1m1/1\u001b[0m \u001b[32m━━━━━━━━━━━━━━━━━━━━\u001b[0m\u001b[37m\u001b[0m \u001b[1m0s\u001b[0m 73ms/step - loss: 1.5148 - mae: 0.9788 - val_loss: 1.4403 - val_mae: 1.0202\n",
      "Epoch 7/15\n",
      "\u001b[1m1/1\u001b[0m \u001b[32m━━━━━━━━━━━━━━━━━━━━\u001b[0m\u001b[37m\u001b[0m \u001b[1m0s\u001b[0m 77ms/step - loss: 1.4135 - mae: 0.9636 - val_loss: 1.5147 - val_mae: 1.0511\n",
      "Epoch 8/15\n",
      "\u001b[1m1/1\u001b[0m \u001b[32m━━━━━━━━━━━━━━━━━━━━\u001b[0m\u001b[37m\u001b[0m \u001b[1m0s\u001b[0m 76ms/step - loss: 1.3814 - mae: 0.9727 - val_loss: 1.5015 - val_mae: 1.0662\n",
      "Epoch 9/15\n",
      "\u001b[1m1/1\u001b[0m \u001b[32m━━━━━━━━━━━━━━━━━━━━\u001b[0m\u001b[37m\u001b[0m \u001b[1m0s\u001b[0m 76ms/step - loss: 1.2344 - mae: 0.8947 - val_loss: 1.4559 - val_mae: 1.0637\n",
      "Epoch 10/15\n",
      "\u001b[1m1/1\u001b[0m \u001b[32m━━━━━━━━━━━━━━━━━━━━\u001b[0m\u001b[37m\u001b[0m \u001b[1m0s\u001b[0m 73ms/step - loss: 1.1593 - mae: 0.8753 - val_loss: 1.3935 - val_mae: 1.0310\n",
      "Epoch 11/15\n",
      "\u001b[1m1/1\u001b[0m \u001b[32m━━━━━━━━━━━━━━━━━━━━\u001b[0m\u001b[37m\u001b[0m \u001b[1m0s\u001b[0m 73ms/step - loss: 1.0616 - mae: 0.8356 - val_loss: 1.3282 - val_mae: 0.9972\n",
      "Epoch 12/15\n",
      "\u001b[1m1/1\u001b[0m \u001b[32m━━━━━━━━━━━━━━━━━━━━\u001b[0m\u001b[37m\u001b[0m \u001b[1m0s\u001b[0m 77ms/step - loss: 1.0714 - mae: 0.8523 - val_loss: 1.2382 - val_mae: 0.9536\n",
      "Epoch 13/15\n",
      "\u001b[1m1/1\u001b[0m \u001b[32m━━━━━━━━━━━━━━━━━━━━\u001b[0m\u001b[37m\u001b[0m \u001b[1m0s\u001b[0m 74ms/step - loss: 1.0264 - mae: 0.8178 - val_loss: 1.1116 - val_mae: 0.8993\n",
      "Epoch 14/15\n",
      "\u001b[1m1/1\u001b[0m \u001b[32m━━━━━━━━━━━━━━━━━━━━\u001b[0m\u001b[37m\u001b[0m \u001b[1m0s\u001b[0m 73ms/step - loss: 1.0596 - mae: 0.8450 - val_loss: 0.9963 - val_mae: 0.8588\n",
      "Epoch 15/15\n",
      "\u001b[1m1/1\u001b[0m \u001b[32m━━━━━━━━━━━━━━━━━━━━\u001b[0m\u001b[37m\u001b[0m \u001b[1m0s\u001b[0m 76ms/step - loss: 1.0853 - mae: 0.8433 - val_loss: 0.9672 - val_mae: 0.8694\n"
     ]
    }
   ],
   "source": [
    "history = model.fit(X_train, Y_train,\n",
    "                    validation_data=(X_test, Y_test),\n",
    "                    epochs=15,\n",
    "                    batch_size=32)\n"
   ]
  },
  {
   "cell_type": "code",
   "execution_count": 11,
   "metadata": {},
   "outputs": [
    {
     "data": {
      "image/png": "[encoded data removed]",
      "text/plain": [
       "<Figure size 1000x600 with 1 Axes>"
      ]
     },
     "metadata": {},
     "output_type": "display_data"
    }
   ],
   "source": [
    "import matplotlib.pyplot as plt\n",
    "\n",
    "# Assuming 'history' is the object returned by model.fit()\n",
    "history_dict = history.history\n",
    "\n",
    "# Extract losses\n",
    "train_loss = history_dict['loss']\n",
    "val_loss = history_dict['val_loss']\n",
    "\n",
    "epochs = range(1, len(train_loss) + 1)\n",
    "\n",
    "plt.figure(figsize=(10, 6))\n",
    "plt.plot(epochs, train_loss, 'bo-', label='Training Loss')\n",
    "plt.plot(epochs, val_loss, 'ro-', label='Validation Loss')\n",
    "plt.title('Training and Validation Loss over Epochs')\n",
    "plt.xlabel('Epochs')\n",
    "plt.ylabel('Loss')\n",
    "plt.legend()\n",
    "plt.grid(True)\n",
    "plt.show()\n"
   ]
  },
  {
   "cell_type": "code",
   "execution_count": 12,
   "metadata": {},
   "outputs": [
    {
     "name": "stdout",
     "output_type": "stream",
     "text": [
      "\u001b[1m1/1\u001b[0m \u001b[32m━━━━━━━━━━━━━━━━━━━━\u001b[0m\u001b[37m\u001b[0m \u001b[1m0s\u001b[0m 173ms/step\n"
     ]
    },
    {
     "data": {
      "image/png": "[encoded data removed]",
      "text/plain": [
       "<Figure size 1000x600 with 1 Axes>"
      ]
     },
     "metadata": {},
     "output_type": "display_data"
    }
   ],
   "source": [
    "import matplotlib.pyplot as plt\n",
    "import numpy as np\n",
    "\n",
    "# Predict on the test set\n",
    "y_pred = model.predict(X_test)\n",
    "\n",
    "# If your predictions and ground truth are scaled, invert the scaling\n",
    "# This assumes Y was scaled in the same way as the features.\n",
    "# If Y_test and y_pred are (batch, horizon, 1), reshape to (batch*horizon, 1) before inverse transform.\n",
    "# y_pred is shape (samples, forecast_horizon, 1), reshape if needed:\n",
    "y_pred_reshaped = y_pred.reshape(-1, 1)\n",
    "y_test_reshaped = Y_test.reshape(-1, 1)\n",
    "\n",
    "# Inverse transform just the target\n",
    "y_pred_inverted = y_scaler.inverse_transform(y_pred_reshaped)\n",
    "y_test_inverted = y_scaler.inverse_transform(y_test_reshaped)\n",
    "\n",
    "# Reshape back to (samples, forecast_horizon)\n",
    "y_pred_inverted = y_pred_inverted.reshape(-1, forecast_horizon)\n",
    "y_test_inverted = y_test_inverted.reshape(-1, forecast_horizon)\n",
    "\n",
    "# Let's pick a random sample from the test set to visualize\n",
    "sample_idx = np.random.randint(0, len(X_test))\n",
    "actual = y_test_inverted[sample_idx]\n",
    "predicted = y_pred_inverted[sample_idx]\n",
    "\n",
    "plt.figure(figsize=(10, 6))\n",
    "plt.plot(range(forecast_horizon), actual, 'bo-', label='Actual')\n",
    "plt.plot(range(forecast_horizon), predicted, 'ro-', label='Predicted')\n",
    "plt.title('Transformer Predictions vs. Ground Truth (Sample)')\n",
    "plt.xlabel('Hour')\n",
    "plt.ylabel('Target Value')\n",
    "plt.legend()\n",
    "plt.grid(True)\n",
    "plt.tight_layout()\n",
    "plt.show()\n",
    "\n"
   ]
  },
  {
   "cell_type": "code",
   "execution_count": 13,
   "metadata": {},
   "outputs": [
    {
     "name": "stdout",
     "output_type": "stream",
     "text": [
      "MAE: 10.036\n",
      "MSE: 128.891\n",
      "RMSE: 11.353\n",
      "MAPE: 169.543%\n",
      "R²: -1.356\n"
     ]
    }
   ],
   "source": [
    "from sklearn.metrics import mean_absolute_error, mean_squared_error, mean_absolute_percentage_error, r2_score\n",
    "\n",
    "# Assuming you have:\n",
    "# y_pred_inverted: your model's predictions in original scale\n",
    "# y_test_inverted: the ground truth values in original scale\n",
    "\n",
    "# Flatten if necessary (depends on your shape)\n",
    "# For a multi-step forecast (e.g. forecast_horizon = 24), you may either:\n",
    "# 1. Evaluate all horizons as a single vector:\n",
    "y_pred_flat = y_pred_inverted.flatten()\n",
    "y_test_flat = y_test_inverted.flatten()\n",
    "\n",
    "# 2. Or evaluate metrics per horizon step:\n",
    "# For example:\n",
    "# mae_per_step = [mean_absolute_error(y_test_inverted[:, i], y_pred_inverted[:, i]) for i in range(forecast_horizon)]\n",
    "# mse_per_step = [mean_squared_error(y_test_inverted[:, i], y_pred_inverted[:, i]) for i in range(forecast_horizon)]\n",
    "\n",
    "# Overall metrics (across all forecasted points)\n",
    "mae = mean_absolute_error(y_test_flat, y_pred_flat)\n",
    "mse = mean_squared_error(y_test_flat, y_pred_flat)\n",
    "rmse = mse**0.5\n",
    "mape = mean_absolute_percentage_error(y_test_flat, y_pred_flat)\n",
    "r2 = r2_score(y_test_flat, y_pred_flat)\n",
    "\n",
    "\n",
    "print(f\"MAE: {mae:.3f}\")\n",
    "print(f\"MSE: {mse:.3f}\")\n",
    "print(f\"RMSE: {rmse:.3f}\")\n",
    "print(f\"MAPE: {mape:.3%}\")\n",
    "print(f\"R²: {r2:.3f}\")\n",
    "\n"
   ]
  },
  {
   "cell_type": "code",
   "execution_count": 14,
   "metadata": {},
   "outputs": [
    {
     "name": "stdout",
     "output_type": "stream",
     "text": [
      "Horizon 1: MAE=8.447, RMSE=8.507\n",
      "Horizon 2: MAE=9.035, RMSE=9.095\n",
      "Horizon 3: MAE=7.713, RMSE=7.862\n",
      "Horizon 4: MAE=18.130, RMSE=18.182\n",
      "Horizon 5: MAE=13.053, RMSE=13.106\n",
      "Horizon 6: MAE=14.823, RMSE=14.853\n",
      "Horizon 7: MAE=14.406, RMSE=14.428\n",
      "Horizon 8: MAE=7.858, RMSE=7.879\n",
      "Horizon 9: MAE=3.444, RMSE=3.455\n",
      "Horizon 10: MAE=8.734, RMSE=9.204\n",
      "Horizon 11: MAE=11.139, RMSE=11.307\n",
      "Horizon 12: MAE=11.402, RMSE=11.802\n",
      "Horizon 13: MAE=10.887, RMSE=14.494\n",
      "Horizon 14: MAE=9.076, RMSE=12.378\n",
      "Horizon 15: MAE=10.278, RMSE=11.057\n",
      "Horizon 16: MAE=10.784, RMSE=12.076\n",
      "Horizon 17: MAE=6.632, RMSE=7.412\n",
      "Horizon 18: MAE=5.535, RMSE=5.991\n",
      "Horizon 19: MAE=1.984, RMSE=2.216\n",
      "Horizon 20: MAE=10.099, RMSE=10.908\n",
      "Horizon 21: MAE=9.347, RMSE=9.991\n",
      "Horizon 22: MAE=19.367, RMSE=19.526\n",
      "Horizon 23: MAE=6.883, RMSE=7.249\n",
      "Horizon 24: MAE=11.811, RMSE=11.822\n"
     ]
    }
   ],
   "source": [
    "forecast_horizon = y_test_inverted.shape[1]  # if Y_test had shape (samples, horizon)\n",
    "for i in range(forecast_horizon):\n",
    "    step_mae = mean_absolute_error(y_test_inverted[:, i], y_pred_inverted[:, i])\n",
    "    step_mse = mean_squared_error(y_test_inverted[:, i], y_pred_inverted[:, i])\n",
    "    step_rmse = step_mse**0.5\n",
    "    print(f\"Horizon {i+1}: MAE={step_mae:.3f}, RMSE={step_rmse:.3f}\")\n"
   ]
  },
  {
   "cell_type": "code",
   "execution_count": 17,
   "metadata": {},
   "outputs": [
    {
     "name": "stderr",
     "output_type": "stream",
     "text": [
      "WARNING:absl:You are saving your model as an HDF5 file via `model.save()` or `keras.saving.save_model(model)`. This file format is considered legacy. We recommend using instead the native Keras format, e.g. `model.save('my_model.keras')` or `keras.saving.save_model(model, 'my_model.keras')`. \n"
     ]
    }
   ],
   "source": [
    "model.save(\"./transformer_model.h5\")  # Saves in SavedModel format\n"
   ]
  },
  {
   "cell_type": "code",
   "execution_count": null,
   "metadata": {},
   "outputs": [],
   "source": []
  }
 ],
 "metadata": {
  "kernelspec": {
   "display_name": "venv",
   "language": "python",
   "name": "python3"
  },
  "language_info": {
   "codemirror_mode": {
    "name": "ipython",
    "version": 3
   },
   "file_extension": ".py",
   "mimetype": "text/x-python",
   "name": "python",
   "nbconvert_exporter": "python",
   "pygments_lexer": "ipython3",
   "version": "3.10.12"
  }
 },
 "nbformat": 4,
 "nbformat_minor": 2
}
