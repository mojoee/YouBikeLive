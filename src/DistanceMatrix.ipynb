{
 "cells": [
  {
   "cell_type": "code",
   "execution_count": 1,
   "metadata": {},
   "outputs": [],
   "source": [
    "# https://woolpert.com/managing-simple-vrp-with-google-maps-platform/\n",
    "\n",
    "import os\n",
    "import gmaps\n",
    "from dotenv import load_dotenv\n",
    "import googlemaps\n",
    "import folium\n"
   ]
  },
  {
   "cell_type": "code",
   "execution_count": 2,
   "metadata": {},
   "outputs": [
    {
     "data": {
      "text/plain": [
       "True"
      ]
     },
     "execution_count": 2,
     "metadata": {},
     "output_type": "execute_result"
    }
   ],
   "source": [
    "load_dotenv('../.env')\n"
   ]
  },
  {
   "cell_type": "code",
   "execution_count": 3,
   "metadata": {},
   "outputs": [],
   "source": [
    "# API_KEY = os.getenv('GOOGLE_API_KEY')\n",
    "# gmaps = googlemaps.Client(key=API_KEY)"
   ]
  },
  {
   "cell_type": "code",
   "execution_count": null,
   "metadata": {},
   "outputs": [],
   "source": []
  },
  {
   "cell_type": "code",
   "execution_count": 11,
   "metadata": {},
   "outputs": [],
   "source": [
    "# an example for NTUST stations\n",
    "\n",
    "origins = (25.01182, 121.54165)\n",
    "destinations = [(25.02093, 121.53310), \n",
    "                (25.01182, 121.54165), \n",
    "                (25.01137, 121.54062), \n",
    "                (25.01295, 121.53973),\n",
    "                (25.01027, 121.53998),\n",
    "]\n",
    "\n",
    "\n",
    "# more stations\n",
    "# 74079  25.01451  121.54142  \n",
    "# 74281  25.01337  121.53909  \n",
    "# 70624  25.01234  121.54503  \n",
    "# 73446  25.01426  121.54382  \n",
    "# 69675  25.01345  121.53798  \n",
    "# 74690  25.01436  121.53828  "
   ]
  },
  {
   "cell_type": "code",
   "execution_count": 12,
   "metadata": {},
   "outputs": [],
   "source": [
    "result = gmaps.distance_matrix(origins, destinations, mode='walking')\n"
   ]
  },
  {
   "cell_type": "code",
   "execution_count": 13,
   "metadata": {},
   "outputs": [
    {
     "data": {
      "text/plain": [
       "{'destination_addresses': ['No. 57, Wenzhou St, Da’an District, Taipei City, Taiwan 106',\n",
       "  'No. 10, 基隆路四段41巷68弄大安區台北市 Taiwan 106',\n",
       "  '106, Taiwan, Taipei City, Da’an District, 基隆路四段41巷102號',\n",
       "  '106, Taiwan, Taipei City, Da’an District, Section 4, Keelung Rd, 43號, IB, 8樓809-2室',\n",
       "  'No. 84號, Lane 119, Section 4, Roosevelt Rd, Da’an District, Taipei City, Taiwan 106'],\n",
       " 'origin_addresses': ['No. 10, 基隆路四段41巷68弄大安區台北市 Taiwan 106'],\n",
       " 'rows': [{'elements': [{'distance': {'text': '1.7 km', 'value': 1701},\n",
       "     'duration': {'text': '23 mins', 'value': 1408},\n",
       "     'status': 'OK'},\n",
       "    {'distance': {'text': '1 m', 'value': 0},\n",
       "     'duration': {'text': '1 min', 'value': 0},\n",
       "     'status': 'OK'},\n",
       "    {'distance': {'text': '0.1 km', 'value': 124},\n",
       "     'duration': {'text': '2 mins', 'value': 103},\n",
       "     'status': 'OK'},\n",
       "    {'distance': {'text': '0.3 km', 'value': 307},\n",
       "     'duration': {'text': '4 mins', 'value': 247},\n",
       "     'status': 'OK'},\n",
       "    {'distance': {'text': '0.4 km', 'value': 363},\n",
       "     'duration': {'text': '5 mins', 'value': 310},\n",
       "     'status': 'OK'}]}],\n",
       " 'status': 'OK'}"
      ]
     },
     "execution_count": 13,
     "metadata": {},
     "output_type": "execute_result"
    }
   ],
   "source": [
    "result"
   ]
  },
  {
   "cell_type": "code",
   "execution_count": 14,
   "metadata": {},
   "outputs": [
    {
     "data": {
      "text/plain": [
       "{'destination_addresses': ['No. 57, Wenzhou St, Da’an District, Taipei City, Taiwan 106',\n",
       "  'No. 10, 基隆路四段41巷68弄大安區台北市 Taiwan 106',\n",
       "  '106, Taiwan, Taipei City, Da’an District, 基隆路四段41巷102號',\n",
       "  '106, Taiwan, Taipei City, Da’an District, Section 4, Keelung Rd, 43號, IB, 8樓809-2室',\n",
       "  'No. 84號, Lane 119, Section 4, Roosevelt Rd, Da’an District, Taipei City, Taiwan 106'],\n",
       " 'origin_addresses': ['No. 10, 基隆路四段41巷68弄大安區台北市 Taiwan 106'],\n",
       " 'rows': [{'elements': [{'distance': {'text': '2.7 km', 'value': 2711},\n",
       "     'duration': {'text': '8 mins', 'value': 489},\n",
       "     'status': 'OK'},\n",
       "    {'distance': {'text': '1 m', 'value': 0},\n",
       "     'duration': {'text': '1 min', 'value': 0},\n",
       "     'status': 'OK'},\n",
       "    {'distance': {'text': '0.1 km', 'value': 124},\n",
       "     'duration': {'text': '1 min', 'value': 25},\n",
       "     'status': 'OK'},\n",
       "    {'distance': {'text': '0.3 km', 'value': 302},\n",
       "     'duration': {'text': '1 min', 'value': 74},\n",
       "     'status': 'OK'},\n",
       "    {'distance': {'text': '0.4 km', 'value': 363},\n",
       "     'duration': {'text': '1 min', 'value': 73},\n",
       "     'status': 'OK'}]}],\n",
       " 'status': 'OK'}"
      ]
     },
     "execution_count": 14,
     "metadata": {},
     "output_type": "execute_result"
    }
   ],
   "source": [
    "# costs: \n",
    "# elements = origins * destinations\n",
    "# https://developers.google.com/maps/documentation/distance-matrix/usage-and-billing#distance-matrix\n",
    "# 10 USD per 1000 Elements\n",
    "# for 1500 stations, that would be 22,500.0 USD\n",
    "\n",
    "result = gmaps.distance_matrix(origins, destinations, mode='driving')\n",
    "result"
   ]
  },
  {
   "cell_type": "code",
   "execution_count": 23,
   "metadata": {},
   "outputs": [],
   "source": [
    "# stations of interest\n",
    "import pandas as pd\n",
    "import folium\n",
    "df = pd.read_csv(\"closest_stations.csv\")"
   ]
  },
  {
   "cell_type": "code",
   "execution_count": 24,
   "metadata": {},
   "outputs": [
    {
     "name": "stdout",
     "output_type": "stream",
     "text": [
      "Map saved as 'tsp_map.html'\n"
     ]
    }
   ],
   "source": [
    "# TSP solution: list of indices in order of visit (replace with your actual TSP result)\n",
    "tsp_solution = [0, 2, 4, 1, 3]  # Indices of stations in visiting order\n",
    "\n",
    "# Initialize a folium map centered on the first station\n",
    "map_center = df.iloc[0]['latitude'], df.iloc[0]['longitude']\n",
    "mymap = folium.Map(location=map_center, zoom_start=13)\n",
    "\n",
    "# Add stations as markers\n",
    "for _, row in df.iterrows():\n",
    "    folium.Marker(\n",
    "        location=(row['latitude'], row['longitude']),\n",
    "        popup=row['sna'],\n",
    "        tooltip=row['sna']\n",
    "    ).add_to(mymap)\n",
    "\n",
    "# Add the TSP path\n",
    "path_coordinates = [(df.iloc[i]['latitude'], df.iloc[i]['longitude']) for i in tsp_solution]\n",
    "folium.PolyLine(\n",
    "    path_coordinates, color=\"blue\", weight=2.5, opacity=1\n",
    ").add_to(mymap)\n",
    "\n",
    "# Save and display the map\n",
    "mymap.save(\"tsp_map.html\")\n",
    "print(\"Map saved as 'tsp_map.html'\")"
   ]
  },
  {
   "cell_type": "code",
   "execution_count": null,
   "metadata": {},
   "outputs": [],
   "source": []
  }
 ],
 "metadata": {
  "kernelspec": {
   "display_name": "venv",
   "language": "python",
   "name": "python3"
  },
  "language_info": {
   "codemirror_mode": {
    "name": "ipython",
    "version": 3
   },
   "file_extension": ".py",
   "mimetype": "text/x-python",
   "name": "python",
   "nbconvert_exporter": "python",
   "pygments_lexer": "ipython3",
   "version": "3.10.12"
  }
 },
 "nbformat": 4,
 "nbformat_minor": 2
}
