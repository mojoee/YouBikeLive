{
 "cells": [
  {
   "cell_type": "code",
   "execution_count": 1,
   "metadata": {},
   "outputs": [],
   "source": [
    "# https://woolpert.com/managing-simple-vrp-with-google-maps-platform/\n",
    "\n",
    "import os\n",
    "import gmaps\n",
    "from dotenv import load_dotenv\n",
    "import googlemaps\n"
   ]
  },
  {
   "cell_type": "code",
   "execution_count": 2,
   "metadata": {},
   "outputs": [
    {
     "data": {
      "text/plain": [
       "True"
      ]
     },
     "execution_count": 2,
     "metadata": {},
     "output_type": "execute_result"
    }
   ],
   "source": [
    "load_dotenv('../.env')\n"
   ]
  },
  {
   "cell_type": "code",
   "execution_count": 3,
   "metadata": {},
   "outputs": [],
   "source": [
    "API_KEY = os.getenv('GOOGLE_API_KEY')\n",
    "gmaps = googlemaps.Client(key=API_KEY)"
   ]
  },
  {
   "cell_type": "code",
   "execution_count": 11,
   "metadata": {},
   "outputs": [],
   "source": [
    "# an example for NTUST stations\n",
    "\n",
    "origins = (25.01182, 121.54165)\n",
    "destinations = [(25.02093, 121.53310), \n",
    "                (25.01182, 121.54165), \n",
    "                (25.01137, 121.54062), \n",
    "                (25.01295, 121.53973),\n",
    "                (25.01027, 121.53998),\n",
    "]\n",
    "\n",
    "\n",
    "# more stations\n",
    "# 74079  25.01451  121.54142  \n",
    "# 74281  25.01337  121.53909  \n",
    "# 70624  25.01234  121.54503  \n",
    "# 73446  25.01426  121.54382  \n",
    "# 69675  25.01345  121.53798  \n",
    "# 74690  25.01436  121.53828  "
   ]
  },
  {
   "cell_type": "code",
   "execution_count": 12,
   "metadata": {},
   "outputs": [],
   "source": [
    "result = gmaps.distance_matrix(origins, destinations, mode='walking')\n"
   ]
  },
  {
   "cell_type": "code",
   "execution_count": 13,
   "metadata": {},
   "outputs": [
    {
     "data": {
      "text/plain": [
       "{'destination_addresses': ['No. 57, Wenzhou St, Da’an District, Taipei City, Taiwan 106',\n",
       "  'No. 10, 基隆路四段41巷68弄大安區台北市 Taiwan 106',\n",
       "  '106, Taiwan, Taipei City, Da’an District, 基隆路四段41巷102號',\n",
       "  '106, Taiwan, Taipei City, Da’an District, Section 4, Keelung Rd, 43號, IB, 8樓809-2室',\n",
       "  'No. 84號, Lane 119, Section 4, Roosevelt Rd, Da’an District, Taipei City, Taiwan 106'],\n",
       " 'origin_addresses': ['No. 10, 基隆路四段41巷68弄大安區台北市 Taiwan 106'],\n",
       " 'rows': [{'elements': [{'distance': {'text': '1.7 km', 'value': 1701},\n",
       "     'duration': {'text': '23 mins', 'value': 1408},\n",
       "     'status': 'OK'},\n",
       "    {'distance': {'text': '1 m', 'value': 0},\n",
       "     'duration': {'text': '1 min', 'value': 0},\n",
       "     'status': 'OK'},\n",
       "    {'distance': {'text': '0.1 km', 'value': 124},\n",
       "     'duration': {'text': '2 mins', 'value': 103},\n",
       "     'status': 'OK'},\n",
       "    {'distance': {'text': '0.3 km', 'value': 307},\n",
       "     'duration': {'text': '4 mins', 'value': 247},\n",
       "     'status': 'OK'},\n",
       "    {'distance': {'text': '0.4 km', 'value': 363},\n",
       "     'duration': {'text': '5 mins', 'value': 310},\n",
       "     'status': 'OK'}]}],\n",
       " 'status': 'OK'}"
      ]
     },
     "execution_count": 13,
     "metadata": {},
     "output_type": "execute_result"
    }
   ],
   "source": [
    "result"
   ]
  },
  {
   "cell_type": "code",
   "execution_count": 14,
   "metadata": {},
   "outputs": [
    {
     "data": {
      "text/plain": [
       "{'destination_addresses': ['No. 57, Wenzhou St, Da’an District, Taipei City, Taiwan 106',\n",
       "  'No. 10, 基隆路四段41巷68弄大安區台北市 Taiwan 106',\n",
       "  '106, Taiwan, Taipei City, Da’an District, 基隆路四段41巷102號',\n",
       "  '106, Taiwan, Taipei City, Da’an District, Section 4, Keelung Rd, 43號, IB, 8樓809-2室',\n",
       "  'No. 84號, Lane 119, Section 4, Roosevelt Rd, Da’an District, Taipei City, Taiwan 106'],\n",
       " 'origin_addresses': ['No. 10, 基隆路四段41巷68弄大安區台北市 Taiwan 106'],\n",
       " 'rows': [{'elements': [{'distance': {'text': '2.7 km', 'value': 2711},\n",
       "     'duration': {'text': '8 mins', 'value': 489},\n",
       "     'status': 'OK'},\n",
       "    {'distance': {'text': '1 m', 'value': 0},\n",
       "     'duration': {'text': '1 min', 'value': 0},\n",
       "     'status': 'OK'},\n",
       "    {'distance': {'text': '0.1 km', 'value': 124},\n",
       "     'duration': {'text': '1 min', 'value': 25},\n",
       "     'status': 'OK'},\n",
       "    {'distance': {'text': '0.3 km', 'value': 302},\n",
       "     'duration': {'text': '1 min', 'value': 74},\n",
       "     'status': 'OK'},\n",
       "    {'distance': {'text': '0.4 km', 'value': 363},\n",
       "     'duration': {'text': '1 min', 'value': 73},\n",
       "     'status': 'OK'}]}],\n",
       " 'status': 'OK'}"
      ]
     },
     "execution_count": 14,
     "metadata": {},
     "output_type": "execute_result"
    }
   ],
   "source": [
    "result = gmaps.distance_matrix(origins, destinations, mode='driving')\n",
    "result"
   ]
  },
  {
   "cell_type": "code",
   "execution_count": 15,
   "metadata": {},
   "outputs": [
    {
     "ename": "ModuleNotFoundError",
     "evalue": "No module named 'folium'",
     "output_type": "error",
     "traceback": [
      "\u001b[0;31m---------------------------------------------------------------------------\u001b[0m",
      "\u001b[0;31mModuleNotFoundError\u001b[0m                       Traceback (most recent call last)",
      "Cell \u001b[0;32mIn[15], line 1\u001b[0m\n\u001b[0;32m----> 1\u001b[0m \u001b[38;5;28;01mimport\u001b[39;00m \u001b[38;5;21;01mfolium\u001b[39;00m\n",
      "\u001b[0;31mModuleNotFoundError\u001b[0m: No module named 'folium'"
     ]
    }
   ],
   "source": [
    "import folium\n"
   ]
  },
  {
   "cell_type": "code",
   "execution_count": 17,
   "metadata": {},
   "outputs": [],
   "source": [
    "# stations of interest\n",
    "import pandas as pd\n",
    "stations = pd.read_csv(\"closest_stations.csv\")"
   ]
  },
  {
   "cell_type": "code",
   "execution_count": 20,
   "metadata": {},
   "outputs": [
    {
     "ename": "AttributeError",
     "evalue": "'DataFrame' object has no attribute 'to_list'",
     "output_type": "error",
     "traceback": [
      "\u001b[0;31m---------------------------------------------------------------------------\u001b[0m",
      "\u001b[0;31mAttributeError\u001b[0m                            Traceback (most recent call last)",
      "\u001b[0;32m/tmp/ipykernel_1538548/3656652765.py\u001b[0m in \u001b[0;36m?\u001b[0;34m()\u001b[0m\n\u001b[0;32m----> 1\u001b[0;31m \u001b[0mstations\u001b[0m\u001b[0;34m.\u001b[0m\u001b[0mto_list\u001b[0m\u001b[0;34m(\u001b[0m\u001b[0;34m)\u001b[0m\u001b[0;34m\u001b[0m\u001b[0;34m\u001b[0m\u001b[0m\n\u001b[0m",
      "\u001b[0;32m~/Development/YouBike/YouBikeLive/venv/lib/python3.10/site-packages/pandas/core/generic.py\u001b[0m in \u001b[0;36m?\u001b[0;34m(self, name)\u001b[0m\n\u001b[1;32m   5985\u001b[0m             \u001b[0;32mand\u001b[0m \u001b[0mname\u001b[0m \u001b[0;32mnot\u001b[0m \u001b[0;32min\u001b[0m \u001b[0mself\u001b[0m\u001b[0;34m.\u001b[0m\u001b[0m_accessors\u001b[0m\u001b[0;34m\u001b[0m\u001b[0;34m\u001b[0m\u001b[0m\n\u001b[1;32m   5986\u001b[0m             \u001b[0;32mand\u001b[0m \u001b[0mself\u001b[0m\u001b[0;34m.\u001b[0m\u001b[0m_info_axis\u001b[0m\u001b[0;34m.\u001b[0m\u001b[0m_can_hold_identifiers_and_holds_name\u001b[0m\u001b[0;34m(\u001b[0m\u001b[0mname\u001b[0m\u001b[0;34m)\u001b[0m\u001b[0;34m\u001b[0m\u001b[0;34m\u001b[0m\u001b[0m\n\u001b[1;32m   5987\u001b[0m         ):\n\u001b[1;32m   5988\u001b[0m             \u001b[0;32mreturn\u001b[0m \u001b[0mself\u001b[0m\u001b[0;34m[\u001b[0m\u001b[0mname\u001b[0m\u001b[0;34m]\u001b[0m\u001b[0;34m\u001b[0m\u001b[0;34m\u001b[0m\u001b[0m\n\u001b[0;32m-> 5989\u001b[0;31m         \u001b[0;32mreturn\u001b[0m \u001b[0mobject\u001b[0m\u001b[0;34m.\u001b[0m\u001b[0m__getattribute__\u001b[0m\u001b[0;34m(\u001b[0m\u001b[0mself\u001b[0m\u001b[0;34m,\u001b[0m \u001b[0mname\u001b[0m\u001b[0;34m)\u001b[0m\u001b[0;34m\u001b[0m\u001b[0;34m\u001b[0m\u001b[0m\n\u001b[0m",
      "\u001b[0;31mAttributeError\u001b[0m: 'DataFrame' object has no attribute 'to_list'"
     ]
    }
   ],
   "source": []
  },
  {
   "cell_type": "code",
   "execution_count": 18,
   "metadata": {},
   "outputs": [
    {
     "ename": "KeyError",
     "evalue": "0",
     "output_type": "error",
     "traceback": [
      "\u001b[0;31m---------------------------------------------------------------------------\u001b[0m",
      "\u001b[0;31mKeyError\u001b[0m                                  Traceback (most recent call last)",
      "File \u001b[0;32m~/Development/YouBike/YouBikeLive/venv/lib/python3.10/site-packages/pandas/core/indexes/base.py:3653\u001b[0m, in \u001b[0;36mIndex.get_loc\u001b[0;34m(self, key)\u001b[0m\n\u001b[1;32m   3652\u001b[0m \u001b[38;5;28;01mtry\u001b[39;00m:\n\u001b[0;32m-> 3653\u001b[0m     \u001b[38;5;28;01mreturn\u001b[39;00m \u001b[38;5;28;43mself\u001b[39;49m\u001b[38;5;241;43m.\u001b[39;49m\u001b[43m_engine\u001b[49m\u001b[38;5;241;43m.\u001b[39;49m\u001b[43mget_loc\u001b[49m\u001b[43m(\u001b[49m\u001b[43mcasted_key\u001b[49m\u001b[43m)\u001b[49m\n\u001b[1;32m   3654\u001b[0m \u001b[38;5;28;01mexcept\u001b[39;00m \u001b[38;5;167;01mKeyError\u001b[39;00m \u001b[38;5;28;01mas\u001b[39;00m err:\n",
      "File \u001b[0;32m~/Development/YouBike/YouBikeLive/venv/lib/python3.10/site-packages/pandas/_libs/index.pyx:147\u001b[0m, in \u001b[0;36mpandas._libs.index.IndexEngine.get_loc\u001b[0;34m()\u001b[0m\n",
      "File \u001b[0;32m~/Development/YouBike/YouBikeLive/venv/lib/python3.10/site-packages/pandas/_libs/index.pyx:176\u001b[0m, in \u001b[0;36mpandas._libs.index.IndexEngine.get_loc\u001b[0;34m()\u001b[0m\n",
      "File \u001b[0;32mpandas/_libs/hashtable_class_helper.pxi:7080\u001b[0m, in \u001b[0;36mpandas._libs.hashtable.PyObjectHashTable.get_item\u001b[0;34m()\u001b[0m\n",
      "File \u001b[0;32mpandas/_libs/hashtable_class_helper.pxi:7088\u001b[0m, in \u001b[0;36mpandas._libs.hashtable.PyObjectHashTable.get_item\u001b[0;34m()\u001b[0m\n",
      "\u001b[0;31mKeyError\u001b[0m: 0",
      "\nThe above exception was the direct cause of the following exception:\n",
      "\u001b[0;31mKeyError\u001b[0m                                  Traceback (most recent call last)",
      "Cell \u001b[0;32mIn[18], line 5\u001b[0m\n\u001b[1;32m      2\u001b[0m tsp_solution \u001b[38;5;241m=\u001b[39m [\u001b[38;5;241m0\u001b[39m, \u001b[38;5;241m2\u001b[39m, \u001b[38;5;241m4\u001b[39m, \u001b[38;5;241m1\u001b[39m, \u001b[38;5;241m3\u001b[39m]  \u001b[38;5;66;03m# Indices of stations in the order to visit\u001b[39;00m\n\u001b[1;32m      4\u001b[0m \u001b[38;5;66;03m# Initialize a folium map centered on the first station\u001b[39;00m\n\u001b[0;32m----> 5\u001b[0m map_center \u001b[38;5;241m=\u001b[39m \u001b[43mstations\u001b[49m\u001b[43m[\u001b[49m\u001b[38;5;241;43m0\u001b[39;49m\u001b[43m]\u001b[49m[\u001b[38;5;124m'\u001b[39m\u001b[38;5;124mlatitude\u001b[39m\u001b[38;5;124m'\u001b[39m], stations[\u001b[38;5;241m0\u001b[39m][\u001b[38;5;124m'\u001b[39m\u001b[38;5;124mlongitude\u001b[39m\u001b[38;5;124m'\u001b[39m]\n\u001b[1;32m      6\u001b[0m mymap \u001b[38;5;241m=\u001b[39m folium\u001b[38;5;241m.\u001b[39mMap(location\u001b[38;5;241m=\u001b[39mmap_center, zoom_start\u001b[38;5;241m=\u001b[39m\u001b[38;5;241m13\u001b[39m)\n\u001b[1;32m      8\u001b[0m \u001b[38;5;66;03m# Add stations as markers\u001b[39;00m\n",
      "File \u001b[0;32m~/Development/YouBike/YouBikeLive/venv/lib/python3.10/site-packages/pandas/core/frame.py:3761\u001b[0m, in \u001b[0;36mDataFrame.__getitem__\u001b[0;34m(self, key)\u001b[0m\n\u001b[1;32m   3759\u001b[0m \u001b[38;5;28;01mif\u001b[39;00m \u001b[38;5;28mself\u001b[39m\u001b[38;5;241m.\u001b[39mcolumns\u001b[38;5;241m.\u001b[39mnlevels \u001b[38;5;241m>\u001b[39m \u001b[38;5;241m1\u001b[39m:\n\u001b[1;32m   3760\u001b[0m     \u001b[38;5;28;01mreturn\u001b[39;00m \u001b[38;5;28mself\u001b[39m\u001b[38;5;241m.\u001b[39m_getitem_multilevel(key)\n\u001b[0;32m-> 3761\u001b[0m indexer \u001b[38;5;241m=\u001b[39m \u001b[38;5;28;43mself\u001b[39;49m\u001b[38;5;241;43m.\u001b[39;49m\u001b[43mcolumns\u001b[49m\u001b[38;5;241;43m.\u001b[39;49m\u001b[43mget_loc\u001b[49m\u001b[43m(\u001b[49m\u001b[43mkey\u001b[49m\u001b[43m)\u001b[49m\n\u001b[1;32m   3762\u001b[0m \u001b[38;5;28;01mif\u001b[39;00m is_integer(indexer):\n\u001b[1;32m   3763\u001b[0m     indexer \u001b[38;5;241m=\u001b[39m [indexer]\n",
      "File \u001b[0;32m~/Development/YouBike/YouBikeLive/venv/lib/python3.10/site-packages/pandas/core/indexes/base.py:3655\u001b[0m, in \u001b[0;36mIndex.get_loc\u001b[0;34m(self, key)\u001b[0m\n\u001b[1;32m   3653\u001b[0m     \u001b[38;5;28;01mreturn\u001b[39;00m \u001b[38;5;28mself\u001b[39m\u001b[38;5;241m.\u001b[39m_engine\u001b[38;5;241m.\u001b[39mget_loc(casted_key)\n\u001b[1;32m   3654\u001b[0m \u001b[38;5;28;01mexcept\u001b[39;00m \u001b[38;5;167;01mKeyError\u001b[39;00m \u001b[38;5;28;01mas\u001b[39;00m err:\n\u001b[0;32m-> 3655\u001b[0m     \u001b[38;5;28;01mraise\u001b[39;00m \u001b[38;5;167;01mKeyError\u001b[39;00m(key) \u001b[38;5;28;01mfrom\u001b[39;00m \u001b[38;5;21;01merr\u001b[39;00m\n\u001b[1;32m   3656\u001b[0m \u001b[38;5;28;01mexcept\u001b[39;00m \u001b[38;5;167;01mTypeError\u001b[39;00m:\n\u001b[1;32m   3657\u001b[0m     \u001b[38;5;66;03m# If we have a listlike key, _check_indexing_error will raise\u001b[39;00m\n\u001b[1;32m   3658\u001b[0m     \u001b[38;5;66;03m#  InvalidIndexError. Otherwise we fall through and re-raise\u001b[39;00m\n\u001b[1;32m   3659\u001b[0m     \u001b[38;5;66;03m#  the TypeError.\u001b[39;00m\n\u001b[1;32m   3660\u001b[0m     \u001b[38;5;28mself\u001b[39m\u001b[38;5;241m.\u001b[39m_check_indexing_error(key)\n",
      "\u001b[0;31mKeyError\u001b[0m: 0"
     ]
    }
   ],
   "source": [
    "# TSP solution: list of indices in order of visit (replace with your actual TSP result)\n",
    "tsp_solution = [0, 2, 4, 1, 3]  # Indices of stations in visiting order\n",
    "\n",
    "# Initialize a folium map centered on the first station\n",
    "map_center = df.iloc[0]['latitude'], df.iloc[0]['longitude']\n",
    "mymap = folium.Map(location=map_center, zoom_start=13)\n",
    "\n",
    "# Add stations as markers\n",
    "for _, row in df.iterrows():\n",
    "    folium.Marker(\n",
    "        location=(row['latitude'], row['longitude']),\n",
    "        popup=row['sna'],\n",
    "        tooltip=row['sna']\n",
    "    ).add_to(mymap)\n",
    "\n",
    "# Add the TSP path\n",
    "path_coordinates = [(df.iloc[i]['latitude'], df.iloc[i]['longitude']) for i in tsp_solution]\n",
    "folium.PolyLine(\n",
    "    path_coordinates, color=\"blue\", weight=2.5, opacity=1\n",
    ").add_to(mymap)\n",
    "\n",
    "# Save and display the map\n",
    "mymap.save(\"tsp_map.html\")\n",
    "print(\"Map saved as 'tsp_map.html'\")"
   ]
  },
  {
   "cell_type": "code",
   "execution_count": null,
   "metadata": {},
   "outputs": [],
   "source": []
  }
 ],
 "metadata": {
  "kernelspec": {
   "display_name": "venv",
   "language": "python",
   "name": "python3"
  },
  "language_info": {
   "codemirror_mode": {
    "name": "ipython",
    "version": 3
   },
   "file_extension": ".py",
   "mimetype": "text/x-python",
   "name": "python",
   "nbconvert_exporter": "python",
   "pygments_lexer": "ipython3",
   "version": "3.10.12"
  }
 },
 "nbformat": 4,
 "nbformat_minor": 2
}
