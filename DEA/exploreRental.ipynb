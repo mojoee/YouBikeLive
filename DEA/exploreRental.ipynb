{
 "cells": [
  {
   "cell_type": "code",
   "execution_count": 1,
   "metadata": {},
   "outputs": [],
   "source": [
    "import pandas as pd\n"
   ]
  },
  {
   "cell_type": "code",
   "execution_count": 4,
   "metadata": {},
   "outputs": [],
   "source": [
    "data_path = \"../data/202302_YouBike_Rental.csv\"\n",
    "df = pd.read_csv(data_path)"
   ]
  },
  {
   "cell_type": "code",
   "execution_count": 5,
   "metadata": {},
   "outputs": [
    {
     "name": "stdout",
     "output_type": "stream",
     "text": [
      "                      Borrow Time Borrow Station                Return Time  \\\n",
      "0       2023-02-20T00:00:00+08:00         萬華國中_1  2023-02-20T00:00:00+08:00   \n",
      "1       2023-02-20T00:00:00+08:00    捷運圓山站(1號出口)  2023-02-20T00:00:00+08:00   \n",
      "2       2023-02-20T00:00:00+08:00       松山路292巷口  2023-02-20T00:00:00+08:00   \n",
      "3       2023-02-20T00:00:00+08:00       承德路三段8巷口  2023-02-20T00:00:00+08:00   \n",
      "4       2023-02-20T00:00:00+08:00      興隆公共住宅D2區  2023-02-20T00:00:00+08:00   \n",
      "...                           ...            ...                        ...   \n",
      "643299  2023-02-17T23:00:00+08:00    捷運北投站(1號出口)  2023-02-17T23:00:00+08:00   \n",
      "643300  2023-02-17T23:00:00+08:00    捷運雙連站(2號出口)  2023-02-17T23:00:00+08:00   \n",
      "643301  2023-02-17T23:00:00+08:00    民權東路三段106巷口  2023-02-17T23:00:00+08:00   \n",
      "643302  2023-02-17T23:00:00+08:00    捷運大安站(4號出口)  2023-02-17T23:00:00+08:00   \n",
      "643303  2023-02-17T23:00:00+08:00         捷運六張犁站  2023-02-17T23:00:00+08:00   \n",
      "\n",
      "       Return Station Rental Hours Borrow Date  \n",
      "0        捷運龍山寺站(1號出口)     00:05:22  2023-02-20  \n",
      "1              樹德公園_1     00:07:04  2023-02-20  \n",
      "2                福德國小     00:07:23  2023-02-20  \n",
      "3              樹德公園_1     00:02:49  2023-02-20  \n",
      "4                 考試院     00:06:53  2023-02-20  \n",
      "...               ...          ...         ...  \n",
      "643299       大業路300巷口     00:08:34  2023-02-17  \n",
      "643300           金龍公園     00:44:05  2023-02-17  \n",
      "643301    復興北路514巷口東側     00:05:48  2023-02-17  \n",
      "643302  捷運信義安和站(4號出口)     00:06:51  2023-02-17  \n",
      "643303         臺北醫學大學     00:04:36  2023-02-17  \n",
      "\n",
      "[643304 rows x 6 columns]\n"
     ]
    }
   ],
   "source": [
    "# Rename columns to English\n",
    "df.rename(columns={\n",
    "    \"借車時間\": \"Borrow Time\",\n",
    "    \"借車站\": \"Borrow Station\",\n",
    "    \"還車時間\": \"Return Time\",\n",
    "    \"還車站\": \"Return Station\",\n",
    "    \"租借時數\": \"Rental Hours\",\n",
    "    \"借車日期\": \"Borrow Date\"\n",
    "}, inplace=True)\n",
    "\n",
    "print(df)"
   ]
  },
  {
   "cell_type": "code",
   "execution_count": 7,
   "metadata": {},
   "outputs": [
    {
     "name": "stdout",
     "output_type": "stream",
     "text": [
      "           Borrow Count  Return Count\n",
      "?公公園                572           329\n",
      "一壽橋                  29            87\n",
      "一江公園                250           182\n",
      "三光國小(金滿意)             0            15\n",
      "三和慈愛街口                0             1\n",
      "...                 ...           ...\n",
      "龍米停車場                 0            91\n",
      "龍興里活動中心              41           502\n",
      "龍門公園                  0             2\n",
      "龍門廣場               1412           788\n",
      "龍門龍濱路口                0            10\n",
      "\n",
      "[1813 rows x 2 columns]\n"
     ]
    }
   ],
   "source": [
    "# Count how many times a bike was borrowed from each station\n",
    "borrow_counts = df[\"Borrow Station\"].value_counts()\n",
    "\n",
    "# Count how many times a bike was returned to each station\n",
    "return_counts = df[\"Return Station\"].value_counts()\n",
    "\n",
    "# Combine the results into a single DataFrame\n",
    "station_counts = pd.DataFrame({\n",
    "    \"Borrow Count\": borrow_counts,\n",
    "    \"Return Count\": return_counts\n",
    "}).fillna(0)  # Fill NaN with 0 for stations not in both categories\n",
    "\n",
    "# Convert counts to integers\n",
    "station_counts = station_counts.astype(int)\n",
    "\n",
    "print(station_counts)\n"
   ]
  },
  {
   "cell_type": "code",
   "execution_count": null,
   "metadata": {},
   "outputs": [],
   "source": []
  }
 ],
 "metadata": {
  "kernelspec": {
   "display_name": "venv",
   "language": "python",
   "name": "python3"
  },
  "language_info": {
   "codemirror_mode": {
    "name": "ipython",
    "version": 3
   },
   "file_extension": ".py",
   "mimetype": "text/x-python",
   "name": "python",
   "nbconvert_exporter": "python",
   "pygments_lexer": "ipython3",
   "version": "3.10.12"
  }
 },
 "nbformat": 4,
 "nbformat_minor": 2
}
